{
 "cells": [
  {
   "cell_type": "code",
   "execution_count": 1,
   "metadata": {},
   "outputs": [],
   "source": [
    "from geomagio.edge import EdgeFactory\n",
    "from geomagio.algorithm import Algorithm\n",
    "from obspy.core import UTCDateTime, Stream,  Stats\n",
    "import numpy as np\n",
    "import scipy as sp\n",
    "import scipy.linalg as spl\n",
    "import scipy.signal as sps\n",
    "import matplotlib.pyplot as pl\n",
    "import datetime as dt\n",
    "import json"
   ]
  },
  {
   "cell_type": "code",
   "execution_count": 2,
   "metadata": {},
   "outputs": [],
   "source": [
    "class FilterAlgorithm(Algorithm):\n",
    "    \"\"\"Filter Algorithm\"\"\""
   ]
  },
  {
   "cell_type": "code",
   "execution_count": 42,
   "metadata": {},
   "outputs": [],
   "source": [
    "# excerpted from https://github.com/scipy/scipy/issues/7725#issuecomment-322094749\n",
    "sample_rate = 10.0\n",
    "cutoff = 0.2\n",
    "width = 0.3\n",
    "stop_db = 50.0\n",
    "stop_db = np.abs(stop_db)\n",
    "\n",
    "# Convert to normalized frequencies\n",
    "nyq = 0.5*sample_rate\n",
    "cutoff = cutoff / nyq\n",
    "width = width / nyq\n",
    "\n",
    "numtaps, beta = sps.kaiserord(ripple=stop_db, width=width)\n",
    "numtaps |= 1\n",
    "taps = sps.firwin(numtaps, cutoff, window=('kaiser', beta), scale=False)"
   ]
  },
  {
   "cell_type": "code",
   "execution_count": 43,
   "metadata": {},
   "outputs": [
    {
     "data": {
      "text/plain": [
       "99"
      ]
     },
     "execution_count": 43,
     "metadata": {},
     "output_type": "execute_result"
    }
   ],
   "source": [
    "numtaps"
   ]
  },
  {
   "cell_type": "code",
   "execution_count": 44,
   "metadata": {},
   "outputs": [
    {
     "data": {
      "text/plain": [
       "4.533514120981248"
      ]
     },
     "execution_count": 44,
     "metadata": {},
     "output_type": "execute_result"
    }
   ],
   "source": [
    "beta"
   ]
  },
  {
   "cell_type": "code",
   "execution_count": 45,
   "metadata": {},
   "outputs": [
    {
     "data": {
      "text/plain": [
       "array([-4.52198796e-05, -1.11619355e-04, -2.01483397e-04, -3.16506684e-04,\n",
       "       -4.57626335e-04, -6.24859943e-04, -8.17155093e-04, -1.03225668e-03,\n",
       "       -1.26659826e-03, -1.51522326e-03, -1.77174156e-03, -2.02832596e-03,\n",
       "       -2.27575221e-03, -2.50348516e-03, -2.69981225e-03, -2.85202413e-03,\n",
       "       -2.94664077e-03, -2.96967983e-03, -2.90696256e-03, -2.74445127e-03,\n",
       "       -2.46861053e-03, -2.06678395e-03, -1.52757659e-03, -8.41232992e-04,\n",
       "        8.97254861e-19,  1.00153625e-03,  2.16614984e-03,  3.49372106e-03,\n",
       "        4.98103797e-03,  6.62166161e-03,  8.40586129e-03,  1.03206248e-02,\n",
       "        1.23497468e-02,  1.44739951e-02,  1.66713562e-02,  1.89173528e-02,\n",
       "        2.11854322e-02,  2.34474143e-02,  2.56739920e-02,  2.78352727e-02,\n",
       "        2.99013480e-02,  3.18428788e-02,  3.36316814e-02,  3.52413005e-02,\n",
       "        3.66475558e-02,  3.78290461e-02,  3.87676015e-02,  3.94486690e-02,\n",
       "        3.98616244e-02,  4.00000000e-02,  3.98616244e-02,  3.94486690e-02,\n",
       "        3.87676015e-02,  3.78290461e-02,  3.66475558e-02,  3.52413005e-02,\n",
       "        3.36316814e-02,  3.18428788e-02,  2.99013480e-02,  2.78352727e-02,\n",
       "        2.56739920e-02,  2.34474143e-02,  2.11854322e-02,  1.89173528e-02,\n",
       "        1.66713562e-02,  1.44739951e-02,  1.23497468e-02,  1.03206248e-02,\n",
       "        8.40586129e-03,  6.62166161e-03,  4.98103797e-03,  3.49372106e-03,\n",
       "        2.16614984e-03,  1.00153625e-03,  8.97254861e-19, -8.41232992e-04,\n",
       "       -1.52757659e-03, -2.06678395e-03, -2.46861053e-03, -2.74445127e-03,\n",
       "       -2.90696256e-03, -2.96967983e-03, -2.94664077e-03, -2.85202413e-03,\n",
       "       -2.69981225e-03, -2.50348516e-03, -2.27575221e-03, -2.02832596e-03,\n",
       "       -1.77174156e-03, -1.51522326e-03, -1.26659826e-03, -1.03225668e-03,\n",
       "       -8.17155093e-04, -6.24859943e-04, -4.57626335e-04, -3.16506684e-04,\n",
       "       -2.01483397e-04, -1.11619355e-04, -4.52198796e-05])"
      ]
     },
     "execution_count": 45,
     "metadata": {},
     "output_type": "execute_result"
    }
   ],
   "source": [
    "taps"
   ]
  },
  {
   "cell_type": "code",
   "execution_count": 46,
   "metadata": {},
   "outputs": [
    {
     "data": {
      "text/plain": [
       "1.0034504636745052"
      ]
     },
     "execution_count": 46,
     "metadata": {},
     "output_type": "execute_result"
    }
   ],
   "source": [
    "sum(taps)"
   ]
  },
  {
   "cell_type": "code",
   "execution_count": 47,
   "metadata": {},
   "outputs": [],
   "source": [
    "taps=taps/sum(taps)"
   ]
  },
  {
   "cell_type": "code",
   "execution_count": 48,
   "metadata": {},
   "outputs": [
    {
     "data": {
      "text/plain": [
       "array([-4.50643866e-05, -1.11235541e-04, -2.00790576e-04, -3.15418344e-04,\n",
       "       -4.56052742e-04, -6.22711300e-04, -8.14345224e-04, -1.02870717e-03,\n",
       "       -1.26224294e-03, -1.51001301e-03, -1.76564925e-03, -2.02135136e-03,\n",
       "       -2.26792681e-03, -2.49487668e-03, -2.69052868e-03, -2.84221717e-03,\n",
       "       -2.93650846e-03, -2.95946829e-03, -2.89696669e-03, -2.73501420e-03,\n",
       "       -2.46012197e-03, -2.05967711e-03, -1.52232387e-03, -8.38340329e-04,\n",
       "        8.94169561e-19,  9.98092368e-04,  2.15870132e-03,  3.48170755e-03,\n",
       "        4.96391018e-03,  6.59889237e-03,  8.37695691e-03,  1.02851364e-02,\n",
       "        1.23072809e-02,  1.44242249e-02,  1.66140301e-02,  1.88523036e-02,\n",
       "        2.11125840e-02,  2.33667880e-02,  2.55857094e-02,  2.77395583e-02,\n",
       "        2.97985293e-02,  3.17333839e-02,  3.35160355e-02,  3.51201198e-02,\n",
       "        3.65215396e-02,  3.76989672e-02,  3.86342953e-02,  3.93130209e-02,\n",
       "        3.97245562e-02,  3.98624560e-02,  3.97245562e-02,  3.93130209e-02,\n",
       "        3.86342953e-02,  3.76989672e-02,  3.65215396e-02,  3.51201198e-02,\n",
       "        3.35160355e-02,  3.17333839e-02,  2.97985293e-02,  2.77395583e-02,\n",
       "        2.55857094e-02,  2.33667880e-02,  2.11125840e-02,  1.88523036e-02,\n",
       "        1.66140301e-02,  1.44242249e-02,  1.23072809e-02,  1.02851364e-02,\n",
       "        8.37695691e-03,  6.59889237e-03,  4.96391018e-03,  3.48170755e-03,\n",
       "        2.15870132e-03,  9.98092368e-04,  8.94169561e-19, -8.38340329e-04,\n",
       "       -1.52232387e-03, -2.05967711e-03, -2.46012197e-03, -2.73501420e-03,\n",
       "       -2.89696669e-03, -2.95946829e-03, -2.93650846e-03, -2.84221717e-03,\n",
       "       -2.69052868e-03, -2.49487668e-03, -2.26792681e-03, -2.02135136e-03,\n",
       "       -1.76564925e-03, -1.51001301e-03, -1.26224294e-03, -1.02870717e-03,\n",
       "       -8.14345224e-04, -6.22711300e-04, -4.56052742e-04, -3.15418344e-04,\n",
       "       -2.00790576e-04, -1.11235541e-04, -4.50643866e-05])"
      ]
     },
     "execution_count": 48,
     "metadata": {},
     "output_type": "execute_result"
    }
   ],
   "source": [
    "taps"
   ]
  },
  {
   "cell_type": "code",
   "execution_count": 49,
   "metadata": {},
   "outputs": [
    {
     "data": {
      "text/plain": [
       "[<matplotlib.lines.Line2D at 0x1c205b1208>]"
      ]
     },
     "execution_count": 49,
     "metadata": {},
     "output_type": "execute_result"
    },
    {
     "data": {
      "image/png": "[encoded data removed]",
      "text/plain": [
       "<Figure size 432x288 with 1 Axes>"
      ]
     },
     "metadata": {
      "needs_background": "light"
     },
     "output_type": "display_data"
    }
   ],
   "source": [
    "pl.plot(taps)"
   ]
  },
  {
   "cell_type": "code",
   "execution_count": 112,
   "metadata": {},
   "outputs": [],
   "source": [
    "w, h = sps.freqz(taps,worN=4096)"
   ]
  },
  {
   "cell_type": "code",
   "execution_count": 113,
   "metadata": {},
   "outputs": [
    {
     "name": "stderr",
     "output_type": "stream",
     "text": [
      "/Users/aclaycomb/anaconda3/envs/geomagenv36/lib/python3.6/site-packages/matplotlib/cbook/deprecation.py:107: MatplotlibDeprecationWarning: Adding an axes using the same arguments as a previous axes currently reuses the earlier instance.  In a future version, a new instance will always be created and returned.  Meanwhile, this warning can be suppressed, and the future behavior ensured, by passing a unique label to each axes instance.\n",
      "  warnings.warn(message, mplDeprecation, stacklevel=1)\n"
     ]
    },
    {
     "data": {
      "image/png": "[encoded data removed]",
      "text/plain": [
       "<Figure size 432x288 with 2 Axes>"
      ]
     },
     "metadata": {
      "needs_background": "light"
     },
     "output_type": "display_data"
    }
   ],
   "source": [
    "fig = pl.figure()\n",
    "pl.title('Digital filter frequency response')\n",
    "ax1 = fig.add_subplot(111)\n",
    "pl.semilogy(w, np.abs(h), 'b')\n",
    "pl.ylabel('Amplitude (dB)', color='b')\n",
    "pl.xlabel('Frequency (rad/sample)')\n",
    "ax2 = ax1.twinx()\n",
    "angles = np.unwrap(np.angle(h))\n",
    "pl.plot(w, angles, 'g')\n",
    "pl.ylabel('Angle (radians)', color='g')\n",
    "pl.grid()\n",
    "pl.axis('tight')\n",
    "pl.show()"
   ]
  },
  {
   "cell_type": "code",
   "execution_count": 114,
   "metadata": {},
   "outputs": [],
   "source": [
    "taps2 = sps.firwin2(99, freq=[0, 0.04, 0.1, 5.0], gain=[1, 1, 10**(-50.0/20.0), 0], nyq=5.0,antisymmetric=False)"
   ]
  },
  {
   "cell_type": "code",
   "execution_count": 115,
   "metadata": {},
   "outputs": [
    {
     "data": {
      "text/plain": [
       "array([0.00036743, 0.00039389, 0.00043087, 0.00047976, 0.00054214,\n",
       "       0.00061929, 0.00071271, 0.00082349, 0.00095298, 0.001102  ,\n",
       "       0.00127171, 0.00146257, 0.00167551, 0.00191056, 0.00216841,\n",
       "       0.00244856, 0.00275147, 0.00307606, 0.00342256, 0.00378925,\n",
       "       0.00417619, 0.00458094, 0.0050035 , 0.00544063, 0.0058924 ,\n",
       "       0.00635471, 0.00682785, 0.00730675, 0.0077922 , 0.008278  ,\n",
       "       0.00876574, 0.00924788, 0.00972728, 0.01019469, 0.01065487,\n",
       "       0.01109625, 0.01152651, 0.0119307 , 0.01232103, 0.01267721,\n",
       "       0.01301894, 0.01331671, 0.01360379, 0.01383258, 0.01406534,\n",
       "       0.01421121, 0.01441783, 0.01444252, 0.01515414, 0.01613373,\n",
       "       0.01515414, 0.01444252, 0.01441783, 0.01421121, 0.01406534,\n",
       "       0.01383258, 0.01360379, 0.01331671, 0.01301894, 0.01267721,\n",
       "       0.01232103, 0.0119307 , 0.01152651, 0.01109625, 0.01065487,\n",
       "       0.01019469, 0.00972728, 0.00924788, 0.00876574, 0.008278  ,\n",
       "       0.0077922 , 0.00730675, 0.00682785, 0.00635471, 0.0058924 ,\n",
       "       0.00544063, 0.0050035 , 0.00458094, 0.00417619, 0.00378925,\n",
       "       0.00342256, 0.00307606, 0.00275147, 0.00244856, 0.00216841,\n",
       "       0.00191056, 0.00167551, 0.00146257, 0.00127171, 0.001102  ,\n",
       "       0.00095298, 0.00082349, 0.00071271, 0.00061929, 0.00054214,\n",
       "       0.00047976, 0.00043087, 0.00039389, 0.00036743])"
      ]
     },
     "execution_count": 115,
     "metadata": {},
     "output_type": "execute_result"
    }
   ],
   "source": [
    "taps2"
   ]
  },
  {
   "cell_type": "code",
   "execution_count": 116,
   "metadata": {},
   "outputs": [
    {
     "data": {
      "text/plain": [
       "[<matplotlib.lines.Line2D at 0x1c20695748>]"
      ]
     },
     "execution_count": 116,
     "metadata": {},
     "output_type": "execute_result"
    },
    {
     "data": {
      "image/png": "[encoded data removed]",
      "text/plain": [
       "<Figure size 432x288 with 1 Axes>"
      ]
     },
     "metadata": {
      "needs_background": "light"
     },
     "output_type": "display_data"
    }
   ],
   "source": [
    "pl.plot(taps2)"
   ]
  },
  {
   "cell_type": "code",
   "execution_count": 82,
   "metadata": {},
   "outputs": [],
   "source": [
    "w, h = sps.freqz(taps2)"
   ]
  },
  {
   "cell_type": "code",
   "execution_count": 83,
   "metadata": {},
   "outputs": [
    {
     "name": "stderr",
     "output_type": "stream",
     "text": [
      "/Users/aclaycomb/anaconda3/envs/geomagenv36/lib/python3.6/site-packages/matplotlib/cbook/deprecation.py:107: MatplotlibDeprecationWarning: Adding an axes using the same arguments as a previous axes currently reuses the earlier instance.  In a future version, a new instance will always be created and returned.  Meanwhile, this warning can be suppressed, and the future behavior ensured, by passing a unique label to each axes instance.\n",
      "  warnings.warn(message, mplDeprecation, stacklevel=1)\n"
     ]
    },
    {
     "data": {
      "image/png": "[encoded data removed]",
      "text/plain": [
       "<Figure size 432x288 with 2 Axes>"
      ]
     },
     "metadata": {
      "needs_background": "light"
     },
     "output_type": "display_data"
    }
   ],
   "source": [
    "fig = pl.figure()\n",
    "pl.title('Digital filter frequency response')\n",
    "ax1 = fig.add_subplot(111)\n",
    "pl.semilogy(w, np.abs(h), 'b')\n",
    "pl.ylabel('Amplitude (dB)', color='b')\n",
    "pl.xlabel('Frequency (rad/sample)')\n",
    "ax2 = ax1.twinx()\n",
    "angles = np.unwrap(np.angle(h))\n",
    "pl.plot(w, angles, 'g')\n",
    "pl.ylabel('Angle (radians)', color='g')\n",
    "pl.grid()\n",
    "pl.axis('tight')\n",
    "pl.show()"
   ]
  },
  {
   "cell_type": "code",
   "execution_count": null,
   "metadata": {},
   "outputs": [],
   "source": []
  },
  {
   "cell_type": "code",
   "execution_count": 11,
   "metadata": {},
   "outputs": [
    {
     "ename": "NameError",
     "evalue": "name 'linspace' is not defined",
     "output_type": "error",
     "traceback": [
      "\u001b[0;31m---------------------------------------------------------------------------\u001b[0m",
      "\u001b[0;31mNameError\u001b[0m                                 Traceback (most recent call last)",
      "\u001b[0;32m<ipython-input-11-aa5ebe4e8c59>\u001b[0m in \u001b[0;36m<module>\u001b[0;34m()\u001b[0m\n\u001b[0;32m----> 1\u001b[0;31m \u001b[0mw\u001b[0m \u001b[0;34m=\u001b[0m \u001b[0mlinspace\u001b[0m\u001b[0;34m(\u001b[0m\u001b[0;36m0.0\u001b[0m\u001b[0;34m,\u001b[0m\u001b[0mnp\u001b[0m\u001b[0;34m.\u001b[0m\u001b[0mpi\u001b[0m\u001b[0;34m,\u001b[0m\u001b[0;36m512\u001b[0m\u001b[0;34m)\u001b[0m\u001b[0;34m\u001b[0m\u001b[0m\n\u001b[0m\u001b[1;32m      2\u001b[0m \u001b[0mgd_samples\u001b[0m \u001b[0;34m=\u001b[0m \u001b[0;34m(\u001b[0m\u001b[0mnumtaps\u001b[0m\u001b[0;34m/\u001b[0m\u001b[0;36m2\u001b[0m \u001b[0;34m-\u001b[0m \u001b[0;36m1\u001b[0m\u001b[0;34m)\u001b[0m\u001b[0;34m*\u001b[0m\u001b[0mones_like\u001b[0m\u001b[0;34m(\u001b[0m\u001b[0mw\u001b[0m\u001b[0;34m)\u001b[0m\u001b[0;34m\u001b[0m\u001b[0m\n\u001b[1;32m      3\u001b[0m \u001b[0mgd_time\u001b[0m \u001b[0;34m=\u001b[0m \u001b[0;34m(\u001b[0m\u001b[0mnumtaps\u001b[0m\u001b[0;34m/\u001b[0m\u001b[0;36m2\u001b[0m \u001b[0;34m-\u001b[0m \u001b[0;36m1\u001b[0m\u001b[0;34m)\u001b[0m\u001b[0;34m\u001b[0m\u001b[0m\n\u001b[1;32m      4\u001b[0m \u001b[0mgd_\u001b[0m\u001b[0;34m\u001b[0m\u001b[0m\n",
      "\u001b[0;31mNameError\u001b[0m: name 'linspace' is not defined"
     ]
    }
   ],
   "source": [
    "w = linspace(0.0,np.pi,512)\n",
    "gd_samples = (numtaps/2 - 1)*ones_like(w)\n",
    "gd_time = (numtaps/2 - 1)\n",
    "gd_"
   ]
  },
  {
   "cell_type": "code",
   "execution_count": 84,
   "metadata": {},
   "outputs": [],
   "source": [
    "a,b = sps.iirdesign(cutoff, cutoff+width, gpass=3.0, gstop=50.0, analog=False, ftype='butter')"
   ]
  },
  {
   "cell_type": "code",
   "execution_count": 85,
   "metadata": {},
   "outputs": [
    {
     "data": {
      "text/plain": [
       "array([2.94794932e-09, 2.06356452e-08, 6.19069356e-08, 1.03178226e-07,\n",
       "       1.03178226e-07, 6.19069356e-08, 2.06356452e-08, 2.94794932e-09])"
      ]
     },
     "execution_count": 85,
     "metadata": {},
     "output_type": "execute_result"
    }
   ],
   "source": [
    "a"
   ]
  },
  {
   "cell_type": "code",
   "execution_count": 86,
   "metadata": {},
   "outputs": [
    {
     "data": {
      "text/plain": [
       "array([  1.        ,  -6.43513372,  17.7687487 , -27.28864598,\n",
       "        25.17318559, -13.94787923,   4.29785921,  -0.56813419])"
      ]
     },
     "execution_count": 86,
     "metadata": {},
     "output_type": "execute_result"
    }
   ],
   "source": [
    "b"
   ]
  },
  {
   "cell_type": "code",
   "execution_count": 87,
   "metadata": {},
   "outputs": [],
   "source": [
    "ts = np.asarray([0, 0, 0, 0, 0, 0, 0, 0, 0, 0, 0, 0, 0, 0, 0, 0, 1, 0, 0, 0, 0, 0, 0, 0, 0, 0, 0, 0, 0, 0, 0, 0, 0])"
   ]
  },
  {
   "cell_type": "code",
   "execution_count": 88,
   "metadata": {},
   "outputs": [],
   "source": [
    "y = np.asarray([0, 0, 0, 0, 0, 0, 0, 0])"
   ]
  },
  {
   "cell_type": "code",
   "execution_count": 89,
   "metadata": {},
   "outputs": [],
   "source": [
    "tout, yout = sps.dimpulse((a,b,0.1), t=np.arange(0,99,0.1))"
   ]
  },
  {
   "cell_type": "code",
   "execution_count": 90,
   "metadata": {},
   "outputs": [
    {
     "data": {
      "text/plain": [
       "array([ 0. ,  0.1,  0.2,  0.3,  0.4,  0.5,  0.6,  0.7,  0.8,  0.9,  1. ,\n",
       "        1.1,  1.2,  1.3,  1.4,  1.5,  1.6,  1.7,  1.8,  1.9,  2. ,  2.1,\n",
       "        2.2,  2.3,  2.4,  2.5,  2.6,  2.7,  2.8,  2.9,  3. ,  3.1,  3.2,\n",
       "        3.3,  3.4,  3.5,  3.6,  3.7,  3.8,  3.9,  4. ,  4.1,  4.2,  4.3,\n",
       "        4.4,  4.5,  4.6,  4.7,  4.8,  4.9,  5. ,  5.1,  5.2,  5.3,  5.4,\n",
       "        5.5,  5.6,  5.7,  5.8,  5.9,  6. ,  6.1,  6.2,  6.3,  6.4,  6.5,\n",
       "        6.6,  6.7,  6.8,  6.9,  7. ,  7.1,  7.2,  7.3,  7.4,  7.5,  7.6,\n",
       "        7.7,  7.8,  7.9,  8. ,  8.1,  8.2,  8.3,  8.4,  8.5,  8.6,  8.7,\n",
       "        8.8,  8.9,  9. ,  9.1,  9.2,  9.3,  9.4,  9.5,  9.6,  9.7,  9.8,\n",
       "        9.9, 10. , 10.1, 10.2, 10.3, 10.4, 10.5, 10.6, 10.7, 10.8, 10.9,\n",
       "       11. , 11.1, 11.2, 11.3, 11.4, 11.5, 11.6, 11.7, 11.8, 11.9, 12. ,\n",
       "       12.1, 12.2, 12.3, 12.4, 12.5, 12.6, 12.7, 12.8, 12.9, 13. , 13.1,\n",
       "       13.2, 13.3, 13.4, 13.5, 13.6, 13.7, 13.8, 13.9, 14. , 14.1, 14.2,\n",
       "       14.3, 14.4, 14.5, 14.6, 14.7, 14.8, 14.9, 15. , 15.1, 15.2, 15.3,\n",
       "       15.4, 15.5, 15.6, 15.7, 15.8, 15.9, 16. , 16.1, 16.2, 16.3, 16.4,\n",
       "       16.5, 16.6, 16.7, 16.8, 16.9, 17. , 17.1, 17.2, 17.3, 17.4, 17.5,\n",
       "       17.6, 17.7, 17.8, 17.9, 18. , 18.1, 18.2, 18.3, 18.4, 18.5, 18.6,\n",
       "       18.7, 18.8, 18.9, 19. , 19.1, 19.2, 19.3, 19.4, 19.5, 19.6, 19.7,\n",
       "       19.8, 19.9, 20. , 20.1, 20.2, 20.3, 20.4, 20.5, 20.6, 20.7, 20.8,\n",
       "       20.9, 21. , 21.1, 21.2, 21.3, 21.4, 21.5, 21.6, 21.7, 21.8, 21.9,\n",
       "       22. , 22.1, 22.2, 22.3, 22.4, 22.5, 22.6, 22.7, 22.8, 22.9, 23. ,\n",
       "       23.1, 23.2, 23.3, 23.4, 23.5, 23.6, 23.7, 23.8, 23.9, 24. , 24.1,\n",
       "       24.2, 24.3, 24.4, 24.5, 24.6, 24.7, 24.8, 24.9, 25. , 25.1, 25.2,\n",
       "       25.3, 25.4, 25.5, 25.6, 25.7, 25.8, 25.9, 26. , 26.1, 26.2, 26.3,\n",
       "       26.4, 26.5, 26.6, 26.7, 26.8, 26.9, 27. , 27.1, 27.2, 27.3, 27.4,\n",
       "       27.5, 27.6, 27.7, 27.8, 27.9, 28. , 28.1, 28.2, 28.3, 28.4, 28.5,\n",
       "       28.6, 28.7, 28.8, 28.9, 29. , 29.1, 29.2, 29.3, 29.4, 29.5, 29.6,\n",
       "       29.7, 29.8, 29.9, 30. , 30.1, 30.2, 30.3, 30.4, 30.5, 30.6, 30.7,\n",
       "       30.8, 30.9, 31. , 31.1, 31.2, 31.3, 31.4, 31.5, 31.6, 31.7, 31.8,\n",
       "       31.9, 32. , 32.1, 32.2, 32.3, 32.4, 32.5, 32.6, 32.7, 32.8, 32.9,\n",
       "       33. , 33.1, 33.2, 33.3, 33.4, 33.5, 33.6, 33.7, 33.8, 33.9, 34. ,\n",
       "       34.1, 34.2, 34.3, 34.4, 34.5, 34.6, 34.7, 34.8, 34.9, 35. , 35.1,\n",
       "       35.2, 35.3, 35.4, 35.5, 35.6, 35.7, 35.8, 35.9, 36. , 36.1, 36.2,\n",
       "       36.3, 36.4, 36.5, 36.6, 36.7, 36.8, 36.9, 37. , 37.1, 37.2, 37.3,\n",
       "       37.4, 37.5, 37.6, 37.7, 37.8, 37.9, 38. , 38.1, 38.2, 38.3, 38.4,\n",
       "       38.5, 38.6, 38.7, 38.8, 38.9, 39. , 39.1, 39.2, 39.3, 39.4, 39.5,\n",
       "       39.6, 39.7, 39.8, 39.9, 40. , 40.1, 40.2, 40.3, 40.4, 40.5, 40.6,\n",
       "       40.7, 40.8, 40.9, 41. , 41.1, 41.2, 41.3, 41.4, 41.5, 41.6, 41.7,\n",
       "       41.8, 41.9, 42. , 42.1, 42.2, 42.3, 42.4, 42.5, 42.6, 42.7, 42.8,\n",
       "       42.9, 43. , 43.1, 43.2, 43.3, 43.4, 43.5, 43.6, 43.7, 43.8, 43.9,\n",
       "       44. , 44.1, 44.2, 44.3, 44.4, 44.5, 44.6, 44.7, 44.8, 44.9, 45. ,\n",
       "       45.1, 45.2, 45.3, 45.4, 45.5, 45.6, 45.7, 45.8, 45.9, 46. , 46.1,\n",
       "       46.2, 46.3, 46.4, 46.5, 46.6, 46.7, 46.8, 46.9, 47. , 47.1, 47.2,\n",
       "       47.3, 47.4, 47.5, 47.6, 47.7, 47.8, 47.9, 48. , 48.1, 48.2, 48.3,\n",
       "       48.4, 48.5, 48.6, 48.7, 48.8, 48.9, 49. , 49.1, 49.2, 49.3, 49.4,\n",
       "       49.5, 49.6, 49.7, 49.8, 49.9, 50. , 50.1, 50.2, 50.3, 50.4, 50.5,\n",
       "       50.6, 50.7, 50.8, 50.9, 51. , 51.1, 51.2, 51.3, 51.4, 51.5, 51.6,\n",
       "       51.7, 51.8, 51.9, 52. , 52.1, 52.2, 52.3, 52.4, 52.5, 52.6, 52.7,\n",
       "       52.8, 52.9, 53. , 53.1, 53.2, 53.3, 53.4, 53.5, 53.6, 53.7, 53.8,\n",
       "       53.9, 54. , 54.1, 54.2, 54.3, 54.4, 54.5, 54.6, 54.7, 54.8, 54.9,\n",
       "       55. , 55.1, 55.2, 55.3, 55.4, 55.5, 55.6, 55.7, 55.8, 55.9, 56. ,\n",
       "       56.1, 56.2, 56.3, 56.4, 56.5, 56.6, 56.7, 56.8, 56.9, 57. , 57.1,\n",
       "       57.2, 57.3, 57.4, 57.5, 57.6, 57.7, 57.8, 57.9, 58. , 58.1, 58.2,\n",
       "       58.3, 58.4, 58.5, 58.6, 58.7, 58.8, 58.9, 59. , 59.1, 59.2, 59.3,\n",
       "       59.4, 59.5, 59.6, 59.7, 59.8, 59.9, 60. , 60.1, 60.2, 60.3, 60.4,\n",
       "       60.5, 60.6, 60.7, 60.8, 60.9, 61. , 61.1, 61.2, 61.3, 61.4, 61.5,\n",
       "       61.6, 61.7, 61.8, 61.9, 62. , 62.1, 62.2, 62.3, 62.4, 62.5, 62.6,\n",
       "       62.7, 62.8, 62.9, 63. , 63.1, 63.2, 63.3, 63.4, 63.5, 63.6, 63.7,\n",
       "       63.8, 63.9, 64. , 64.1, 64.2, 64.3, 64.4, 64.5, 64.6, 64.7, 64.8,\n",
       "       64.9, 65. , 65.1, 65.2, 65.3, 65.4, 65.5, 65.6, 65.7, 65.8, 65.9,\n",
       "       66. , 66.1, 66.2, 66.3, 66.4, 66.5, 66.6, 66.7, 66.8, 66.9, 67. ,\n",
       "       67.1, 67.2, 67.3, 67.4, 67.5, 67.6, 67.7, 67.8, 67.9, 68. , 68.1,\n",
       "       68.2, 68.3, 68.4, 68.5, 68.6, 68.7, 68.8, 68.9, 69. , 69.1, 69.2,\n",
       "       69.3, 69.4, 69.5, 69.6, 69.7, 69.8, 69.9, 70. , 70.1, 70.2, 70.3,\n",
       "       70.4, 70.5, 70.6, 70.7, 70.8, 70.9, 71. , 71.1, 71.2, 71.3, 71.4,\n",
       "       71.5, 71.6, 71.7, 71.8, 71.9, 72. , 72.1, 72.2, 72.3, 72.4, 72.5,\n",
       "       72.6, 72.7, 72.8, 72.9, 73. , 73.1, 73.2, 73.3, 73.4, 73.5, 73.6,\n",
       "       73.7, 73.8, 73.9, 74. , 74.1, 74.2, 74.3, 74.4, 74.5, 74.6, 74.7,\n",
       "       74.8, 74.9, 75. , 75.1, 75.2, 75.3, 75.4, 75.5, 75.6, 75.7, 75.8,\n",
       "       75.9, 76. , 76.1, 76.2, 76.3, 76.4, 76.5, 76.6, 76.7, 76.8, 76.9,\n",
       "       77. , 77.1, 77.2, 77.3, 77.4, 77.5, 77.6, 77.7, 77.8, 77.9, 78. ,\n",
       "       78.1, 78.2, 78.3, 78.4, 78.5, 78.6, 78.7, 78.8, 78.9, 79. , 79.1,\n",
       "       79.2, 79.3, 79.4, 79.5, 79.6, 79.7, 79.8, 79.9, 80. , 80.1, 80.2,\n",
       "       80.3, 80.4, 80.5, 80.6, 80.7, 80.8, 80.9, 81. , 81.1, 81.2, 81.3,\n",
       "       81.4, 81.5, 81.6, 81.7, 81.8, 81.9, 82. , 82.1, 82.2, 82.3, 82.4,\n",
       "       82.5, 82.6, 82.7, 82.8, 82.9, 83. , 83.1, 83.2, 83.3, 83.4, 83.5,\n",
       "       83.6, 83.7, 83.8, 83.9, 84. , 84.1, 84.2, 84.3, 84.4, 84.5, 84.6,\n",
       "       84.7, 84.8, 84.9, 85. , 85.1, 85.2, 85.3, 85.4, 85.5, 85.6, 85.7,\n",
       "       85.8, 85.9, 86. , 86.1, 86.2, 86.3, 86.4, 86.5, 86.6, 86.7, 86.8,\n",
       "       86.9, 87. , 87.1, 87.2, 87.3, 87.4, 87.5, 87.6, 87.7, 87.8, 87.9,\n",
       "       88. , 88.1, 88.2, 88.3, 88.4, 88.5, 88.6, 88.7, 88.8, 88.9, 89. ,\n",
       "       89.1, 89.2, 89.3, 89.4, 89.5, 89.6, 89.7, 89.8, 89.9, 90. , 90.1,\n",
       "       90.2, 90.3, 90.4, 90.5, 90.6, 90.7, 90.8, 90.9, 91. , 91.1, 91.2,\n",
       "       91.3, 91.4, 91.5, 91.6, 91.7, 91.8, 91.9, 92. , 92.1, 92.2, 92.3,\n",
       "       92.4, 92.5, 92.6, 92.7, 92.8, 92.9, 93. , 93.1, 93.2, 93.3, 93.4,\n",
       "       93.5, 93.6, 93.7, 93.8, 93.9, 94. , 94.1, 94.2, 94.3, 94.4, 94.5,\n",
       "       94.6, 94.7, 94.8, 94.9, 95. , 95.1, 95.2, 95.3, 95.4, 95.5, 95.6,\n",
       "       95.7, 95.8, 95.9, 96. , 96.1, 96.2, 96.3, 96.4, 96.5, 96.6, 96.7,\n",
       "       96.8, 96.9, 97. , 97.1, 97.2, 97.3, 97.4, 97.5, 97.6, 97.7, 97.8,\n",
       "       97.9, 98. , 98.1, 98.2, 98.3, 98.4, 98.5, 98.6, 98.7, 98.8, 98.9])"
      ]
     },
     "execution_count": 90,
     "metadata": {},
     "output_type": "execute_result"
    }
   ],
   "source": [
    "tout"
   ]
  },
  {
   "cell_type": "code",
   "execution_count": 91,
   "metadata": {},
   "outputs": [
    {
     "data": {
      "text/plain": [
       "(array([[ 2.94794932e-09],\n",
       "        [ 3.96060933e-08],\n",
       "        [ 2.64396071e-07],\n",
       "        [ 1.18129713e-06],\n",
       "        [ 4.01358323e-06],\n",
       "        [ 1.11587968e-05],\n",
       "        [ 2.66326925e-05],\n",
       "        [ 5.64174864e-05],\n",
       "        [ 1.08660984e-04],\n",
       "        [ 1.93701617e-04],\n",
       "        [ 3.23916056e-04],\n",
       "        [ 5.13401949e-04],\n",
       "        [ 7.77519340e-04],\n",
       "        [ 1.13232135e-03],\n",
       "        [ 1.59390845e-03],\n",
       "        [ 2.17774164e-03],\n",
       "        [ 2.89794922e-03],\n",
       "        [ 3.76665894e-03],\n",
       "        [ 4.79338394e-03],\n",
       "        [ 5.98448654e-03],\n",
       "        [ 7.34273901e-03],\n",
       "        [ 8.86699534e-03],\n",
       "        [ 1.05519834e-02],\n",
       "        [ 1.23882219e-02],\n",
       "        [ 1.43620611e-02],\n",
       "        [ 1.64558455e-02],\n",
       "        [ 1.86481877e-02],\n",
       "        [ 2.09143458e-02],\n",
       "        [ 2.32266888e-02],\n",
       "        [ 2.55552376e-02],\n",
       "        [ 2.78682631e-02],\n",
       "        [ 3.01329264e-02],\n",
       "        [ 3.23159424e-02],\n",
       "        [ 3.43842520e-02],\n",
       "        [ 3.63056839e-02],\n",
       "        [ 3.80495940e-02],\n",
       "        [ 3.95874653e-02],\n",
       "        [ 4.08934583e-02],\n",
       "        [ 4.19448999e-02],\n",
       "        [ 4.27227032e-02],\n",
       "        [ 4.32117095e-02],\n",
       "        [ 4.34009496e-02],\n",
       "        [ 4.32838207e-02],\n",
       "        [ 4.28581775e-02],\n",
       "        [ 4.21263386e-02],\n",
       "        [ 4.10950117e-02],\n",
       "        [ 3.97751397e-02],\n",
       "        [ 3.81816753e-02],\n",
       "        [ 3.63332887e-02],\n",
       "        [ 3.42520177e-02],\n",
       "        [ 3.19628675e-02],\n",
       "        [ 2.94933702e-02],\n",
       "        [ 2.68731118e-02],\n",
       "        [ 2.41332378e-02],\n",
       "        [ 2.13059465e-02],\n",
       "        [ 1.84239784e-02],\n",
       "        [ 1.55201124e-02],\n",
       "        [ 1.26266753e-02],\n",
       "        [ 9.77507452e-03],\n",
       "        [ 6.99535909e-03],\n",
       "        [ 4.31581716e-03],\n",
       "        [ 1.76261390e-03],\n",
       "        [-6.40524902e-04],\n",
       "        [-2.87258037e-03],\n",
       "        [-4.91545668e-03],\n",
       "        [-6.75414426e-03],\n",
       "        [-8.37682960e-03],\n",
       "        [-9.77495188e-03],\n",
       "        [-1.09432079e-02],\n",
       "        [-1.18795071e-02],\n",
       "        [-1.25848796e-02],\n",
       "        [-1.30633409e-02],\n",
       "        [-1.33217163e-02],\n",
       "        [-1.33694309e-02],\n",
       "        [-1.32182690e-02],\n",
       "        [-1.28821076e-02],\n",
       "        [-1.23766312e-02],\n",
       "        [-1.17190299e-02],\n",
       "        [-1.09276904e-02],\n",
       "        [-1.00218806e-02],\n",
       "        [-9.02143675e-03],\n",
       "        [-7.94645498e-03],\n",
       "        [-6.81699371e-03],\n",
       "        [-5.65278982e-03],\n",
       "        [-4.47299281e-03],\n",
       "        [-3.29591998e-03],\n",
       "        [-2.13883545e-03],\n",
       "        [-1.01775527e-03],\n",
       "        [ 5.27197842e-05],\n",
       "        [ 1.05954238e-03],\n",
       "        [ 1.99132712e-03],\n",
       "        [ 2.83842920e-03],\n",
       "        [ 3.59299339e-03],\n",
       "        [ 4.24897413e-03],\n",
       "        [ 4.80212789e-03],\n",
       "        [ 5.24997915e-03],\n",
       "        [ 5.59176197e-03],\n",
       "        [ 5.82833918e-03],\n",
       "        [ 5.96210153e-03],\n",
       "        [ 5.99684934e-03],\n",
       "        [ 5.93765939e-03],\n",
       "        [ 5.79073967e-03],\n",
       "        [ 5.56327494e-03],\n",
       "        [ 5.26326581e-03],\n",
       "        [ 4.89936414e-03],\n",
       "        [ 4.48070743e-03],\n",
       "        [ 4.01675474e-03],\n",
       "        [ 3.51712656e-03],\n",
       "        [ 2.99145080e-03],\n",
       "        [ 2.44921696e-03],\n",
       "        [ 1.89964019e-03],\n",
       "        [ 1.35153682e-03],\n",
       "        [ 8.13212675e-04],\n",
       "        [ 2.92365040e-04],\n",
       "        [-2.04000784e-04],\n",
       "        [-6.69639970e-04],\n",
       "        [-1.09912141e-03],\n",
       "        [-1.48786574e-03],\n",
       "        [-1.83216834e-03],\n",
       "        [-2.12920787e-03],\n",
       "        [-2.37704084e-03],\n",
       "        [-2.57458314e-03],\n",
       "        [-2.72157956e-03],\n",
       "        [-2.81856229e-03],\n",
       "        [-2.86679964e-03],\n",
       "        [-2.86823646e-03],\n",
       "        [-2.82542733e-03],\n",
       "        [-2.74146424e-03],\n",
       "        [-2.61989987e-03],\n",
       "        [-2.46466810e-03],\n",
       "        [-2.28000299e-03],\n",
       "        [-2.07035760e-03],\n",
       "        [-1.84032386e-03],\n",
       "        [-1.59455473e-03],\n",
       "        [-1.33768959e-03],\n",
       "        [-1.07428400e-03],\n",
       "        [-8.08744442e-04],\n",
       "        [-5.45269013e-04],\n",
       "        [-2.87794472e-04],\n",
       "        [-3.99501844e-05],\n",
       "        [ 1.94980718e-04],\n",
       "        [ 4.14092759e-04],\n",
       "        [ 6.14882052e-04],\n",
       "        [ 7.95262775e-04],\n",
       "        [ 9.53576344e-04],\n",
       "        [ 1.08859355e-03],\n",
       "        [ 1.19950998e-03],\n",
       "        [ 1.28593520e-03],\n",
       "        [ 1.34787619e-03],\n",
       "        [ 1.38571553e-03],\n",
       "        [ 1.40018510e-03],\n",
       "        [ 1.39233579e-03],\n",
       "        [ 1.36350398e-03],\n",
       "        [ 1.31527553e-03],\n",
       "        [ 1.24944779e-03],\n",
       "        [ 1.16799051e-03],\n",
       "        [ 1.07300624e-03],\n",
       "        [ 9.66690824e-04],\n",
       "        [ 8.51294582e-04],\n",
       "        [ 7.29084826e-04],\n",
       "        [ 6.02310123e-04],\n",
       "        [ 4.73166790e-04],\n",
       "        [ 3.43768025e-04],\n",
       "        [ 2.16115980e-04],\n",
       "        [ 9.20770665e-05],\n",
       "        [-2.66393191e-05],\n",
       "        [-1.38498498e-04],\n",
       "        [-2.42154573e-04],\n",
       "        [-3.36460825e-04],\n",
       "        [-4.20476491e-04],\n",
       "        [-4.93470008e-04],\n",
       "        [-5.54918875e-04],\n",
       "        [-6.04506311e-04],\n",
       "        [-6.42114930e-04],\n",
       "        [-6.67817713e-04],\n",
       "        [-6.81866533e-04],\n",
       "        [-6.84678570e-04],\n",
       "        [-6.76820917e-04],\n",
       "        [-6.58993729e-04],\n",
       "        [-6.32012236e-04],\n",
       "        [-5.96787978e-04],\n",
       "        [-5.54309568e-04],\n",
       "        [-5.05623331e-04],\n",
       "        [-4.51814094e-04],\n",
       "        [-3.93986441e-04],\n",
       "        [-3.33246677e-04],\n",
       "        [-2.70685746e-04],\n",
       "        [-2.07363313e-04],\n",
       "        [-1.44293193e-04],\n",
       "        [-8.24302691e-05],\n",
       "        [-2.26590366e-05],\n",
       "        [ 3.42161603e-05],\n",
       "        [ 8.74791253e-05],\n",
       "        [ 1.36508020e-04],\n",
       "        [ 1.80779789e-04],\n",
       "        [ 2.19872827e-04],\n",
       "        [ 2.53467942e-04],\n",
       "        [ 2.81347699e-04],\n",
       "        [ 3.03394228e-04],\n",
       "        [ 3.19585634e-04],\n",
       "        [ 3.29991116e-04],\n",
       "        [ 3.34764961e-04],\n",
       "        [ 3.34139556e-04],\n",
       "        [ 3.28417578e-04],\n",
       "        [ 3.17963528e-04],\n",
       "        [ 3.03194783e-04],\n",
       "        [ 2.84572312e-04],\n",
       "        [ 2.62591231e-04],\n",
       "        [ 2.37771353e-04],\n",
       "        [ 2.10647857e-04],\n",
       "        [ 1.81762242e-04],\n",
       "        [ 1.51653671e-04],\n",
       "        [ 1.20850814e-04],\n",
       "        [ 8.98643029e-05],\n",
       "        [ 5.91798730e-05],\n",
       "        [ 2.92522523e-05],\n",
       "        [ 4.99865603e-07],\n",
       "        [-2.66996204e-05],\n",
       "        [-5.20128826e-05],\n",
       "        [-7.51536523e-05],\n",
       "        [-9.58845564e-05],\n",
       "        [-1.14018107e-04],\n",
       "        [-1.29416873e-04],\n",
       "        [-1.41992872e-04],\n",
       "        [-1.51706237e-04],\n",
       "        [-1.58563217e-04],\n",
       "        [-1.62613577e-04],\n",
       "        [-1.63947474e-04],\n",
       "        [-1.62691876e-04],\n",
       "        [-1.59006617e-04],\n",
       "        [-1.53080161e-04],\n",
       "        [-1.45125149e-04],\n",
       "        [-1.35373825e-04],\n",
       "        [-1.24073408e-04],\n",
       "        [-1.11481480e-04],\n",
       "        [-9.78614699e-05],\n",
       "        [-8.34782912e-05],\n",
       "        [-6.85941958e-05],\n",
       "        [-5.34648902e-05],\n",
       "        [-3.83359659e-05],\n",
       "        [-2.34396771e-05],\n",
       "        [-8.99209963e-06],\n",
       "        [ 4.80930904e-06],\n",
       "        [ 1.77877303e-05],\n",
       "        [ 2.97885790e-05],\n",
       "        [ 4.06806698e-05],\n",
       "        [ 5.03569613e-05],\n",
       "        [ 5.87348886e-05],\n",
       "        [ 6.57563025e-05],\n",
       "        [ 7.13870369e-05],\n",
       "        [ 7.56161314e-05],\n",
       "        [ 7.84547400e-05],\n",
       "        [ 7.99347593e-05],\n",
       "        [ 8.01072132e-05],\n",
       "        [ 7.90404306e-05],\n",
       "        [ 7.68180578e-05],\n",
       "        [ 7.35369422e-05],\n",
       "        [ 6.93049288e-05],\n",
       "        [ 6.42386081e-05],\n",
       "        [ 5.84610506e-05],\n",
       "        [ 5.20995659e-05],\n",
       "        [ 4.52835182e-05],\n",
       "        [ 3.81422283e-05],\n",
       "        [ 3.08029906e-05],\n",
       "        [ 2.33892288e-05],\n",
       "        [ 1.60188110e-05],\n",
       "        [ 8.80254179e-06],\n",
       "        [ 1.84284433e-06],\n",
       "        [-4.76735708e-06],\n",
       "        [-1.09455481e-05],\n",
       "        [-1.66203260e-05],\n",
       "        [-2.17318930e-05],\n",
       "        [-2.62323441e-05],\n",
       "        [-3.00857571e-05],\n",
       "        [-3.32680938e-05],\n",
       "        [-3.57669238e-05],\n",
       "        [-3.75809851e-05],\n",
       "        [-3.87195976e-05],\n",
       "        [-3.92019455e-05],\n",
       "        [-3.90562469e-05],\n",
       "        [-3.83188308e-05],\n",
       "        [-3.70331386e-05],\n",
       "        [-3.52486713e-05],\n",
       "        [-3.30199005e-05],\n",
       "        [-3.04051623e-05],\n",
       "        [-2.74655518e-05],\n",
       "        [-2.42638356e-05],\n",
       "        [-2.08633971e-05],\n",
       "        [-1.73272301e-05],\n",
       "        [-1.37169929e-05],\n",
       "        [-1.00921337e-05],\n",
       "        [-6.50909854e-06],\n",
       "        [-3.02062703e-06],\n",
       "        [ 3.24855777e-07],\n",
       "        [ 3.48374880e-06],\n",
       "        [ 6.41768244e-06],\n",
       "        [ 9.09382368e-06],\n",
       "        [ 1.14850796e-05],\n",
       "        [ 1.35702019e-05],\n",
       "        [ 1.53337956e-05],\n",
       "        [ 1.67662380e-05],\n",
       "        [ 1.78635125e-05],\n",
       "        [ 1.86269668e-05],\n",
       "        [ 1.90630003e-05],\n",
       "        [ 1.91826920e-05],\n",
       "        [ 1.90013761e-05],\n",
       "        [ 1.85381759e-05],\n",
       "        [ 1.78155045e-05],\n",
       "        [ 1.68585417e-05],\n",
       "        [ 1.56946977e-05],\n",
       "        [ 1.43530711e-05],\n",
       "        [ 1.28639102e-05],\n",
       "        [ 1.12580867e-05],\n",
       "        [ 9.56658741e-06],\n",
       "        [ 7.82003250e-06],\n",
       "        [ 6.04822530e-06],\n",
       "        [ 4.27973898e-06],\n",
       "        [ 2.54154472e-06],\n",
       "        [ 8.58684540e-07],\n",
       "        [-7.46008419e-07],\n",
       "        [-2.25214057e-06],\n",
       "        [-3.64193854e-06],\n",
       "        [-4.90037983e-06],\n",
       "        [-6.01527408e-06],\n",
       "        [-6.97729657e-06],\n",
       "        [-7.77997575e-06],\n",
       "        [-8.41963776e-06],\n",
       "        [-8.89531097e-06],\n",
       "        [-9.20859417e-06],\n",
       "        [-9.36349256e-06],\n",
       "        [-9.36622558e-06],\n",
       "        [-9.22501125e-06],\n",
       "        [-8.94983149e-06],\n",
       "        [-8.55218315e-06],\n",
       "        [-8.04481926e-06],\n",
       "        [-7.44148501e-06],\n",
       "        [-6.75665289e-06],\n",
       "        [-6.00526103e-06],\n",
       "        [-5.20245855e-06],\n",
       "        [-4.36336154e-06],\n",
       "        [-3.50282276e-06],\n",
       "        [-2.63521793e-06],\n",
       "        [-1.77425090e-06],\n",
       "        [-9.32779697e-07],\n",
       "        [-1.22665095e-07],\n",
       "        [ 6.45357404e-07],\n",
       "        [ 1.36178129e-06],\n",
       "        [ 2.01840827e-06],\n",
       "        [ 2.60840314e-06],\n",
       "        [ 3.12632476e-06],\n",
       "        [ 3.56813383e-06],\n",
       "        [ 3.93117892e-06],\n",
       "        [ 4.21416174e-06],\n",
       "        [ 4.41708370e-06],\n",
       "        [ 4.54117528e-06],\n",
       "        [ 4.58881047e-06],\n",
       "        [ 4.56340818e-06],\n",
       "        [ 4.46932311e-06],\n",
       "        [ 4.31172804e-06],\n",
       "        [ 4.09649002e-06],\n",
       "        [ 3.83004261e-06],\n",
       "        [ 3.51925636e-06],\n",
       "        [ 3.17130959e-06],\n",
       "        [ 2.79356147e-06],\n",
       "        [ 2.39342926e-06],\n",
       "        [ 1.97827123e-06],\n",
       "        [ 1.55527692e-06],\n",
       "        [ 1.13136590e-06],\n",
       "        [ 7.13096217e-07],\n",
       "        [ 3.06583307e-07],\n",
       "        [-8.25698570e-08],\n",
       "        [-4.49330971e-07],\n",
       "        [-7.89284681e-07],\n",
       "        [-1.09866689e-06],\n",
       "        [-1.37438717e-06],\n",
       "        [-1.61403969e-06],\n",
       "        [-1.81590293e-06],\n",
       "        [-1.97892902e-06],\n",
       "        [-2.10272322e-06],\n",
       "        [-2.18751454e-06],\n",
       "        [-2.23411839e-06],\n",
       "        [-2.24389217e-06],\n",
       "        [-2.21868508e-06],\n",
       "        [-2.16078299e-06],\n",
       "        [-2.07284963e-06],\n",
       "        [-1.95786524e-06],\n",
       "        [-1.81906355e-06],\n",
       "        [-1.65986847e-06],\n",
       "        [-1.48383111e-06],\n",
       "        [-1.29456841e-06],\n",
       "        [-1.09570401e-06],\n",
       "        [-8.90812280e-07],\n",
       "        [-6.83366086e-07],\n",
       "        [-4.76688999e-07],\n",
       "        [-2.73912369e-07],\n",
       "        [-7.79376827e-08],\n",
       "        [ 1.08595502e-07],\n",
       "        [ 2.83335867e-07],\n",
       "        [ 4.44240783e-07],\n",
       "        [ 5.89590916e-07],\n",
       "        [ 7.17999074e-07],\n",
       "        [ 8.28413475e-07],\n",
       "        [ 9.20115687e-07],\n",
       "        [ 9.92713565e-07],\n",
       "        [ 1.04612956e-06],\n",
       "        [ 1.08058482e-06],\n",
       "        [ 1.09657960e-06],\n",
       "        [ 1.09487043e-06],\n",
       "        [ 1.07644457e-06],\n",
       "        [ 1.04249234e-06],\n",
       "        [ 9.94377814e-07],\n",
       "        [ 9.33608474e-07],\n",
       "        [ 8.61804241e-07],\n",
       "        [ 7.80666529e-07],\n",
       "        [ 6.91947686e-07],\n",
       "        [ 5.97421333e-07],\n",
       "        [ 4.98853975e-07],\n",
       "        [ 3.97978268e-07],\n",
       "        [ 2.96468252e-07],\n",
       "        [ 1.95916837e-07],\n",
       "        [ 9.78157464e-08],\n",
       "        [ 3.53810784e-09],\n",
       "        [-8.56761880e-08],\n",
       "        [-1.68732293e-07],\n",
       "        [-2.44689337e-07],\n",
       "        [-3.12766515e-07],\n",
       "        [-3.72346383e-07],\n",
       "        [-4.22975475e-07],\n",
       "        [-4.64362360e-07],\n",
       "        [-4.96373321e-07],\n",
       "        [-5.19025849e-07],\n",
       "        [-5.32480164e-07],\n",
       "        [-5.37029008e-07],\n",
       "        [-5.33085958e-07],\n",
       "        [-5.21172516e-07],\n",
       "        [-5.01904244e-07],\n",
       "        [-4.75976208e-07],\n",
       "        [-4.44147990e-07],\n",
       "        [-4.07228527e-07],\n",
       "        [-3.66061006e-07],\n",
       "        [-3.21508069e-07],\n",
       "        [-2.74437502e-07],\n",
       "        [-2.25708642e-07],\n",
       "        [-1.76159635e-07],\n",
       "        [-1.26595725e-07],\n",
       "        [-7.77786725e-08],\n",
       "        [-3.04174198e-08],\n",
       "        [ 1.48399237e-08],\n",
       "        [ 5.74127314e-08],\n",
       "        [ 9.67931101e-08],\n",
       "        [ 1.32549750e-07],\n",
       "        [ 1.64330389e-07],\n",
       "        [ 1.91862929e-07],\n",
       "        [ 2.14955266e-07],\n",
       "        [ 2.33493889e-07],\n",
       "        [ 2.47441367e-07],\n",
       "        [ 2.56832786e-07],\n",
       "        [ 2.61771274e-07],\n",
       "        [ 2.62422731e-07],\n",
       "        [ 2.59009866e-07],\n",
       "        [ 2.51805701e-07],\n",
       "        [ 2.41126643e-07],\n",
       "        [ 2.27325274e-07],\n",
       "        [ 2.10782975e-07],\n",
       "        [ 1.91902502e-07],\n",
       "        [ 1.71100650e-07],\n",
       "        [ 1.48801086e-07],\n",
       "        [ 1.25427474e-07],\n",
       "        [ 1.01396970e-07],\n",
       "        [ 7.71141707e-08],\n",
       "        [ 5.29655831e-08],\n",
       "        [ 2.93146738e-08],\n",
       "        [ 6.49753809e-09],\n",
       "        [-1.51807738e-08],\n",
       "        [-3.54492548e-08],\n",
       "        [-5.40732540e-08],\n",
       "        [-7.08561057e-08],\n",
       "        [-8.56400866e-08],\n",
       "        [-9.83067240e-08],\n",
       "        [-1.08776483e-07],\n",
       "        [-1.17007876e-07],\n",
       "        [-1.22996030e-07],\n",
       "        [-1.26770781e-07],\n",
       "        [-1.28394324e-07],\n",
       "        [-1.27958507e-07],\n",
       "        [-1.25581810e-07],\n",
       "        [-1.21406077e-07],\n",
       "        [-1.15593076e-07],\n",
       "        [-1.08320929e-07],\n",
       "        [-9.97804917e-08],\n",
       "        [-9.01717306e-08],\n",
       "        [-7.97001605e-08],\n",
       "        [-6.85733863e-08],\n",
       "        [-5.69978031e-08],\n",
       "        [-4.51754926e-08],\n",
       "        [-3.33013551e-08],\n",
       "        [-2.15605067e-08],\n",
       "        [-1.01259685e-08],\n",
       "        [ 8.43333233e-10],\n",
       "        [ 1.12042419e-08],\n",
       "        [ 2.08307125e-08],\n",
       "        [ 2.96148179e-08],\n",
       "        [ 3.74674224e-08],\n",
       "        [ 4.43185300e-08],\n",
       "        [ 5.01173204e-08],\n",
       "        [ 5.48318878e-08],\n",
       "        [ 5.84487046e-08],\n",
       "        [ 6.09718312e-08],\n",
       "        [ 6.24218989e-08],\n",
       "        [ 6.28348935e-08],\n",
       "        [ 6.22607698e-08],\n",
       "        [ 6.07619258e-08],\n",
       "        [ 5.84115697e-08],\n",
       "        [ 5.52920089e-08],\n",
       "        [ 5.14928924e-08],\n",
       "        [ 4.71094361e-08],\n",
       "        [ 4.22406586e-08],\n",
       "        [ 3.69876544e-08],\n",
       "        [ 3.14519296e-08],\n",
       "        [ 2.57338206e-08],\n",
       "        [ 1.99310175e-08],\n",
       "        [ 1.41372078e-08],\n",
       "        [ 8.44085527e-09],\n",
       "        [ 2.92412535e-09],\n",
       "        [-2.33803440e-09],\n",
       "        [-7.27865322e-09],\n",
       "        [-1.18393323e-08],\n",
       "        [-1.59706760e-08],\n",
       "        [-1.96325618e-08],\n",
       "        [-2.27942524e-08],\n",
       "        [-2.54343588e-08],\n",
       "        [-2.75406605e-08],\n",
       "        [-2.91097962e-08],\n",
       "        [-3.01468340e-08],\n",
       "        [-3.06647360e-08],\n",
       "        [-3.06837313e-08],\n",
       "        [-3.02306102e-08],\n",
       "        [-2.93379573e-08],\n",
       "        [-2.80433366e-08],\n",
       "        [-2.63884442e-08],\n",
       "        [-2.44182441e-08],\n",
       "        [-2.21801006e-08],\n",
       "        [-1.97229204e-08],\n",
       "        [-1.70963184e-08],\n",
       "        [-1.43498173e-08],\n",
       "        [-1.15320925e-08],\n",
       "        [-8.69027055e-09],\n",
       "        [-5.86928976e-09],\n",
       "        [-3.11132917e-09],\n",
       "        [-4.55310624e-10],\n",
       "        [ 2.06352190e-09],\n",
       "        [ 4.41394380e-09],\n",
       "        [ 6.56901103e-09],\n",
       "        [ 8.50624139e-09],\n",
       "        [ 1.02077175e-08],\n",
       "        [ 1.16601143e-08],\n",
       "        [ 1.28546537e-08],\n",
       "        [ 1.37869935e-08],\n",
       "        [ 1.44570525e-08],\n",
       "        [ 1.48687805e-08],\n",
       "        [ 1.50298794e-08],\n",
       "        [ 1.49514807e-08],\n",
       "        [ 1.46477886e-08],\n",
       "        [ 1.41356953e-08],\n",
       "        [ 1.34343756e-08],\n",
       "        [ 1.25648684e-08],\n",
       "        [ 1.15496531e-08],\n",
       "        [ 1.04122255e-08],\n",
       "        [ 9.17668264e-09],\n",
       "        [ 7.86731961e-09],\n",
       "        [ 6.50824618e-09],\n",
       "        [ 5.12302653e-09],\n",
       "        [ 3.73434713e-09],\n",
       "        [ 2.36371609e-09],\n",
       "        [ 1.03119689e-09],\n",
       "        [-2.44821202e-10],\n",
       "        [-1.44781462e-09],\n",
       "        [-2.56327788e-09],\n",
       "        [-3.57883673e-09],\n",
       "        [-4.48432247e-09],\n",
       "        [-5.27180834e-09],\n",
       "        [-5.93560947e-09],\n",
       "        [-6.47224856e-09],\n",
       "        [-6.88038933e-09],\n",
       "        [-7.16074089e-09],\n",
       "        [-7.31593579e-09],\n",
       "        [-7.35038521e-09],\n",
       "        [-7.27011464e-09],\n",
       "        [-7.08258382e-09],\n",
       "        [-6.79649429e-09],\n",
       "        [-6.42158841e-09],\n",
       "        [-5.96844330e-09],\n",
       "        [-5.44826311e-09],\n",
       "        [-4.87267300e-09],\n",
       "        [-4.25351776e-09],\n",
       "        [-3.60266810e-09],\n",
       "        [-2.93183692e-09],\n",
       "        [-2.25240810e-09],\n",
       "        [-1.57527958e-09],\n",
       "        [-9.10722392e-10],\n",
       "        [-2.68257031e-10],\n",
       "        [ 3.43451984e-10],\n",
       "        [ 9.16682670e-10],\n",
       "        [ 1.44472297e-09],\n",
       "        [ 1.92191898e-09],\n",
       "        [ 2.34370432e-09],\n",
       "        [ 2.70661121e-09],\n",
       "        [ 3.00826404e-09],\n",
       "        [ 3.24735661e-09],\n",
       "        [ 3.42361409e-09],\n",
       "        [ 3.53774130e-09],\n",
       "        [ 3.59135866e-09],\n",
       "        [ 3.58692762e-09],\n",
       "        [ 3.52766726e-09],\n",
       "        [ 3.41746369e-09],\n",
       "        [ 3.26077420e-09],\n",
       "        [ 3.06252783e-09],\n",
       "        [ 2.82802406e-09],\n",
       "        [ 2.56283137e-09],\n",
       "        [ 2.27268714e-09],\n",
       "        [ 1.96340036e-09],\n",
       "        [ 1.64075862e-09],\n",
       "        [ 1.31044034e-09],\n",
       "        [ 9.77933595e-10],\n",
       "        [ 6.48462130e-10],\n",
       "        [ 3.26919535e-10],\n",
       "        [ 1.78120277e-11],\n",
       "        [-2.74789697e-10],\n",
       "        [-5.47289326e-10],\n",
       "        [-7.96594391e-10],\n",
       "        [-1.02013640e-09],\n",
       "        [-1.21588181e-09],\n",
       "        [-1.38233425e-09],\n",
       "        [-1.51852829e-09],\n",
       "        [-1.62401545e-09],\n",
       "        [-1.69884307e-09],\n",
       "        [-1.74352661e-09],\n",
       "        [-1.75901636e-09],\n",
       "        [-1.74665921e-09],\n",
       "        [-1.70815651e-09],\n",
       "        [-1.64551864e-09],\n",
       "        [-1.56101740e-09],\n",
       "        [-1.45713693e-09],\n",
       "        [-1.33652408e-09],\n",
       "        [-1.20193887e-09],\n",
       "        [-1.05620606e-09],\n",
       "        [-9.02168180e-10],\n",
       "        [-7.42640999e-10],\n",
       "        [-5.80371699e-10],\n",
       "        [-4.18000438e-10],\n",
       "        [-2.58025627e-10],\n",
       "        [-1.02773262e-10],\n",
       "        [ 4.56294262e-11],\n",
       "        [ 1.85275842e-10],\n",
       "        [ 3.14497319e-10],\n",
       "        [ 4.31875824e-10],\n",
       "        [ 5.36252125e-10],\n",
       "        [ 6.26729536e-10],\n",
       "        [ 7.02673435e-10],\n",
       "        [ 7.63706783e-10],\n",
       "        [ 8.09701926e-10],\n",
       "        [ 8.40769021e-10],\n",
       "        [ 8.57241435e-10],\n",
       "        [ 8.59658509e-10],\n",
       "        [ 8.48746100e-10],\n",
       "        [ 8.25395306e-10],\n",
       "        [ 7.90639824e-10],\n",
       "        [ 7.45632330e-10],\n",
       "        [ 6.91620331e-10],\n",
       "        [ 6.29921860e-10],\n",
       "        [ 5.61901413e-10],\n",
       "        [ 4.88946479e-10],\n",
       "        [ 4.12444987e-10],\n",
       "        [ 3.33763978e-10],\n",
       "        [ 2.54229747e-10],\n",
       "        [ 1.75109692e-10],\n",
       "        [ 9.75960545e-11],\n",
       "        [ 2.27916963e-11],\n",
       "        [-4.83019842e-11],\n",
       "        [-1.14794917e-10],\n",
       "        [-1.75915983e-10],\n",
       "        [-2.31018394e-10],\n",
       "        [-2.79582877e-10],\n",
       "        [-3.21218723e-10],\n",
       "        [-3.55662806e-10],\n",
       "        [-3.82776697e-10],\n",
       "        [-4.02542024e-10],\n",
       "        [-4.15054231e-10],\n",
       "        [-4.20514940e-10],\n",
       "        [-4.19223089e-10],\n",
       "        [-4.11565059e-10],\n",
       "        [-3.98004000e-10],\n",
       "        [-3.79068546e-10],\n",
       "        [-3.55341149e-10],\n",
       "        [-3.27446216e-10],\n",
       "        [-2.96038242e-10],\n",
       "        [-2.61790127e-10],\n",
       "        [-2.25381854e-10],\n",
       "        [-1.87489655e-10],\n",
       "        [-1.48775838e-10],\n",
       "        [-1.09879374e-10],\n",
       "        [-7.14073523e-11],\n",
       "        [-3.39273907e-11],\n",
       "        [ 2.03893505e-12],\n",
       "        [ 3.60216010e-11],\n",
       "        [ 6.76065523e-11],\n",
       "        [ 9.64390223e-11],\n",
       "        [ 1.22225761e-10],\n",
       "        [ 1.44736197e-10],\n",
       "        [ 1.63802576e-10],\n",
       "        [ 1.79319127e-10],\n",
       "        [ 1.91240321e-10],\n",
       "        [ 1.99578298e-10],\n",
       "        [ 2.04399554e-10],\n",
       "        [ 2.05820966e-10],\n",
       "        [ 2.04005264e-10],\n",
       "        [ 1.99156045e-10],\n",
       "        [ 1.91512426e-10],\n",
       "        [ 1.81343448e-10],\n",
       "        [ 1.68942317e-10],\n",
       "        [ 1.54620596e-10],\n",
       "        [ 1.38702421e-10],\n",
       "        [ 1.21518840e-10],\n",
       "        [ 1.03402364e-10],\n",
       "        [ 8.46817735e-11],\n",
       "        [ 6.56772770e-11],\n",
       "        [ 4.66960608e-11],\n",
       "        [ 2.80282784e-11],\n",
       "        [ 9.94352108e-12],\n",
       "        [-7.31220555e-12],\n",
       "        [-2.35189776e-11],\n",
       "        [-3.84849140e-11],\n",
       "        [-5.20475998e-11],\n",
       "        [-6.40749805e-11],\n",
       "        [-7.44657415e-11],\n",
       "        [-8.31491944e-11],\n",
       "        [-9.00847005e-11],\n",
       "        [-9.52606630e-11],\n",
       "        [-9.86931288e-11],\n",
       "        [-1.00424042e-10],\n",
       "        [-1.00519192e-10],\n",
       "        [-9.90659131e-11],\n",
       "        [-9.61705702e-11],\n",
       "        [-9.19558946e-11],\n",
       "        [-8.65582113e-11],\n",
       "        [-8.01246075e-11],\n",
       "        [-7.28100908e-11],\n",
       "        [-6.47747788e-11],\n",
       "        [-5.61811640e-11],\n",
       "        [-4.71914900e-11],\n",
       "        [-3.79652737e-11],\n",
       "        [-2.86570049e-11],\n",
       "        [-1.94140468e-11],\n",
       "        [-1.03747606e-11],\n",
       "        [-1.66687011e-12],\n",
       "        [ 6.59392227e-12],\n",
       "        [ 1.43050589e-11],\n",
       "        [ 2.13779881e-11],\n",
       "        [ 2.77387635e-11],\n",
       "        [ 3.33283863e-11],\n",
       "        [ 3.81028997e-11],\n",
       "        [ 4.20332475e-11],\n",
       "        [ 4.51049111e-11],\n",
       "        [ 4.73173433e-11],\n",
       "        [ 4.86832183e-11],\n",
       "        [ 4.92275195e-11],\n",
       "        [ 4.89864878e-11],\n",
       "        [ 4.80064537e-11],\n",
       "        [ 4.63425790e-11],\n",
       "        [ 4.40575297e-11],\n",
       "        [ 4.12201072e-11],\n",
       "        [ 3.79038588e-11],\n",
       "        [ 3.41856906e-11],\n",
       "        [ 3.01445047e-11],\n",
       "        [ 2.58598795e-11],\n",
       "        [ 2.14108113e-11],\n",
       "        [ 1.68745326e-11],\n",
       "        [ 1.23254227e-11],\n",
       "        [ 7.83402024e-12],\n",
       "        [ 3.46614894e-12],\n",
       "        [-7.17837223e-13],\n",
       "        [-4.66368361e-12],\n",
       "        [-8.32373682e-12],\n",
       "        [-1.16573180e-11],\n",
       "        [-1.46309687e-11],\n",
       "        [-1.72185728e-11],\n",
       "        [-1.94013587e-11],\n",
       "        [-2.11677890e-11],\n",
       "        [-2.25133446e-11],\n",
       "        [-2.34402138e-11],\n",
       "        [-2.39568939e-11],\n",
       "        [-2.40777185e-11],\n",
       "        [-2.38223208e-11],\n",
       "        [-2.32150444e-11],\n",
       "        [-2.22843137e-11],\n",
       "        [-2.10619762e-11],\n",
       "        [-1.95826276e-11],\n",
       "        [-1.78829317e-11],\n",
       "        [-1.60009447e-11],\n",
       "        [-1.39754560e-11],\n",
       "        [-1.18453524e-11],\n",
       "        [-9.64901620e-12],\n",
       "        [-7.42376276e-12],\n",
       "        [-5.20532599e-12],\n",
       "        [-3.02739537e-12],\n",
       "        [-9.21209726e-13],\n",
       "        [ 1.08478934e-12],\n",
       "        [ 2.96524227e-12],\n",
       "        [ 4.69809361e-12],\n",
       "        [ 6.26475127e-12],\n",
       "        [ 7.65018391e-12],\n",
       "        [ 8.84295852e-12],\n",
       "        [ 9.83522052e-12],\n",
       "        [ 1.06226202e-11],\n",
       "        [ 1.12041892e-11],\n",
       "        [ 1.15821718e-11],\n",
       "        [ 1.17618161e-11],\n",
       "        [ 1.17511305e-11],\n",
       "        [ 1.15606105e-11],\n",
       "        [ 1.12029433e-11],\n",
       "        [ 1.06926933e-11],\n",
       "        [ 1.00459770e-11],\n",
       "        [ 9.28013104e-12],\n",
       "        [ 8.41338023e-12],\n",
       "        [ 7.46450911e-12],\n",
       "        [ 6.45254336e-12],\n",
       "        [ 5.39644458e-12],\n",
       "        [ 4.31482266e-12],\n",
       "        [ 3.22566912e-12],\n",
       "        [ 2.14611451e-12],\n",
       "        [ 1.09221210e-12],\n",
       "        [ 7.87499061e-14],\n",
       "        [-8.80907673e-13],\n",
       "        [-1.77494775e-12],\n",
       "        [-2.59320609e-12],\n",
       "        [-3.32723368e-12],\n",
       "        [-3.97033334e-12],\n",
       "        [-4.51756744e-12],\n",
       "        [-4.96573818e-12],\n",
       "        [-5.31334228e-12],\n",
       "        [-5.56050204e-12],\n",
       "        [-5.70887524e-12],\n",
       "        [-5.76154635e-12],\n",
       "        [-5.72290169e-12],\n",
       "        [-5.59849145e-12],\n",
       "        [-5.39488131e-12],\n",
       "        [-5.11949646e-12],\n",
       "        [-4.78046103e-12],\n",
       "        [-4.38643532e-12],\n",
       "        [-3.94645383e-12],\n",
       "        [-3.46976617e-12],\n",
       "        [-2.96568341e-12],\n",
       "        [-2.44343179e-12],\n",
       "        [-1.91201566e-12],\n",
       "        [-1.38009128e-12],\n",
       "        [-8.55852851e-13],\n",
       "        [-3.46931750e-13],\n",
       "        [ 1.39690062e-13],\n",
       "        [ 5.97751982e-13],\n",
       "        [ 1.02177173e-12],\n",
       "        [ 1.40708727e-12],\n",
       "        [ 1.74988385e-12],\n",
       "        [ 2.04720660e-12],\n",
       "        [ 2.29695918e-12],\n",
       "        [ 2.49788941e-12],\n",
       "        [ 2.64956265e-12],\n",
       "        [ 2.75232406e-12],\n",
       "        [ 2.80725105e-12],\n",
       "        [ 2.81609691e-12],\n",
       "        [ 2.78122724e-12],\n",
       "        [ 2.70555041e-12],\n",
       "        [ 2.59244341e-12],\n",
       "        [ 2.44567457e-12],\n",
       "        [ 2.26932450e-12],\n",
       "        [ 2.06770643e-12],\n",
       "        [ 1.84528742e-12],\n",
       "        [ 1.60661139e-12],\n",
       "        [ 1.35622519e-12],\n",
       "        [ 1.09860864e-12],\n",
       "        [ 8.38109399e-13],\n",
       "        [ 5.78883374e-13],\n",
       "        [ 3.24841331e-13],\n",
       "        [ 7.96021586e-14],\n",
       "        [-1.53546849e-13],\n",
       "        [-3.71682460e-13],\n",
       "        [-5.72270623e-13],\n",
       "        [-7.53184249e-13],\n",
       "        [-9.12713774e-13],\n",
       "        [-1.04957074e-12],\n",
       "        [-1.16288473e-12],\n",
       "        [-1.25219402e-12],\n",
       "        [-1.31743049e-12],\n",
       "        [-1.35889932e-12],\n",
       "        [-1.37725401e-12],\n",
       "        [-1.37346747e-12],\n",
       "        [-1.34879972e-12],\n",
       "        [-1.30476297e-12],\n",
       "        [-1.24308474e-12],\n",
       "        [-1.16566958e-12],\n",
       "        [-1.07456029e-12],\n",
       "        [-9.71899028e-13],\n",
       "        [-8.59889017e-13],\n",
       "        [-7.40757417e-13],\n",
       "        [-6.16719826e-13],\n",
       "        [-4.89946897e-13],\n",
       "        [-3.62533448e-13],\n",
       "        [-2.36470418e-13],\n",
       "        [-1.13619940e-13],\n",
       "        [ 4.30625813e-15],\n",
       "        [ 1.15764967e-13],\n",
       "        [ 2.19396044e-13],\n",
       "        [ 3.14033353e-13],\n",
       "        [ 3.98712143e-13],\n",
       "        [ 4.72672923e-13],\n",
       "        [ 5.35361983e-13],\n",
       "        [ 5.86428723e-13],\n",
       "        [ 6.25720013e-13],\n",
       "        [ 6.53271822e-13],\n",
       "        [ 6.69298401e-13],\n",
       "        [ 6.74179318e-13],\n",
       "        [ 6.68444656e-13],\n",
       "        [ 6.52758703e-13],\n",
       "        [ 6.27902469e-13],\n",
       "        [ 5.94755360e-13],\n",
       "        [ 5.54276333e-13],\n",
       "        [ 5.07484858e-13],\n",
       "        [ 4.55441980e-13],\n",
       "        [ 3.99231770e-13],\n",
       "        [ 3.39943434e-13],\n",
       "        [ 2.78654313e-13],\n",
       "        [ 2.16413982e-13],\n",
       "        [ 1.54229647e-13],\n",
       "        [ 9.30529803e-14],\n",
       "        [ 3.37685240e-14],\n",
       "        [-2.28162462e-14],\n",
       "        [-7.59791352e-14],\n",
       "        [-1.25089686e-13],\n",
       "        [-1.69613881e-13],\n",
       "        [-2.09117104e-13],\n",
       "        [-2.43265416e-13],\n",
       "        [-2.71825222e-13],\n",
       "        [-2.94661405e-13],\n",
       "        [-3.11734058e-13],\n",
       "        [-3.23093926e-13],\n",
       "        [-3.28876708e-13],\n",
       "        [-3.29296363e-13],\n",
       "        [-3.24637573e-13],\n",
       "        [-3.15247537e-13],\n",
       "        [-3.01527245e-13],\n",
       "        [-2.83922404e-13],\n",
       "        [-2.62914163e-13],\n",
       "        [-2.39009806e-13],\n",
       "        [-2.12733546e-13],\n",
       "        [-1.84617554e-13],\n",
       "        [-1.55193359e-13],\n",
       "        [-1.24983721e-13],\n",
       "        [-9.44950827e-14],\n",
       "        [-6.42106796e-14],\n",
       "        [-3.45843793e-14],\n",
       "        [-6.03530863e-15],\n",
       "        [ 2.10566956e-14],\n",
       "        [ 4.63547854e-14],\n",
       "        [ 6.95679398e-14],\n",
       "        [ 9.04529453e-14],\n",
       "        [ 1.08815534e-13],\n",
       "        [ 1.24510712e-13],\n",
       "        [ 1.37442305e-13],\n",
       "        [ 1.47561791e-13],\n",
       "        [ 1.54866456e-13],\n",
       "        [ 1.59396949e-13],\n",
       "        [ 1.61234303e-13],\n",
       "        [ 1.60496501e-13],\n",
       "        [ 1.57334658e-13],\n",
       "        [ 1.51928900e-13],\n",
       "        [ 1.44484028e-13],\n",
       "        [ 1.35225032e-13],\n",
       "        [ 1.24392540e-13],\n",
       "        [ 1.12238277e-13],\n",
       "        [ 9.90205960e-14],\n",
       "        [ 8.50001526e-14],\n",
       "        [ 7.04357778e-14],\n",
       "        [ 5.55806038e-14],\n",
       "        [ 4.06784863e-14],\n",
       "        [ 2.59607649e-14],\n",
       "        [ 1.16433900e-14],\n",
       "        [-2.07555641e-15],\n",
       "        [-1.50179329e-14],\n",
       "        [-2.70271905e-14],\n",
       "        [-3.79696042e-14],\n",
       "        [-4.77350873e-14]]),)"
      ]
     },
     "execution_count": 91,
     "metadata": {},
     "output_type": "execute_result"
    }
   ],
   "source": [
    "yout"
   ]
  },
  {
   "cell_type": "code",
   "execution_count": 92,
   "metadata": {},
   "outputs": [
    {
     "data": {
      "text/plain": [
       "[<matplotlib.lines.Line2D at 0x1c20880320>]"
      ]
     },
     "execution_count": 92,
     "metadata": {},
     "output_type": "execute_result"
    },
    {
     "data": {
      "image/png": "[encoded data removed]",
      "text/plain": [
       "<Figure size 432x288 with 1 Axes>"
      ]
     },
     "metadata": {
      "needs_background": "light"
     },
     "output_type": "display_data"
    }
   ],
   "source": [
    "pl.plot(tout, yout[0])"
   ]
  },
  {
   "cell_type": "code",
   "execution_count": 93,
   "metadata": {},
   "outputs": [],
   "source": [
    "tbout, bout = sps.dlsim((a,b,0.1),t=np.append(tout,np.arange(99,199,0.1)) ,u=np.append((np.flip(yout[0],0)),(yout[0][-1]*np.ones_like(np.arange(99,199,0.1)))))"
   ]
  },
  {
   "cell_type": "code",
   "execution_count": 94,
   "metadata": {},
   "outputs": [
    {
     "data": {
      "text/plain": [
       "array([0.00000000e+00, 1.00050302e-01, 2.00100604e-01, ...,\n",
       "       1.98699899e+02, 1.98799950e+02, 1.98900000e+02])"
      ]
     },
     "execution_count": 94,
     "metadata": {},
     "output_type": "execute_result"
    }
   ],
   "source": [
    "tbout"
   ]
  },
  {
   "cell_type": "code",
   "execution_count": 95,
   "metadata": {},
   "outputs": [
    {
     "data": {
      "text/plain": [
       "array([[-1.40720618e-22],\n",
       "       [-2.00251656e-21],\n",
       "       [-1.42042184e-20],\n",
       "       ...,\n",
       "       [-4.73992765e-14],\n",
       "       [-4.91453138e-14],\n",
       "       [-5.07749201e-14]])"
      ]
     },
     "execution_count": 95,
     "metadata": {},
     "output_type": "execute_result"
    }
   ],
   "source": [
    "bout"
   ]
  },
  {
   "cell_type": "code",
   "execution_count": 96,
   "metadata": {},
   "outputs": [
    {
     "data": {
      "text/plain": [
       "[<matplotlib.lines.Line2D at 0x1c2120acf8>]"
      ]
     },
     "execution_count": 96,
     "metadata": {},
     "output_type": "execute_result"
    },
    {
     "data": {
      "image/png": "[encoded data removed]",
      "text/plain": [
       "<Figure size 432x288 with 1 Axes>"
      ]
     },
     "metadata": {
      "needs_background": "light"
     },
     "output_type": "display_data"
    }
   ],
   "source": [
    "pl.plot(tbout[970:1000],bout[970:1000])"
   ]
  },
  {
   "cell_type": "code",
   "execution_count": 97,
   "metadata": {},
   "outputs": [
    {
     "data": {
      "text/plain": [
       "0.04028381793551497"
      ]
     },
     "execution_count": 97,
     "metadata": {},
     "output_type": "execute_result"
    }
   ],
   "source": [
    "np.max(bout)"
   ]
  },
  {
   "cell_type": "code",
   "execution_count": 98,
   "metadata": {},
   "outputs": [
    {
     "data": {
      "text/plain": [
       "(array([989]), array([0]))"
      ]
     },
     "execution_count": 98,
     "metadata": {},
     "output_type": "execute_result"
    }
   ],
   "source": [
    "np.where(bout==np.max(bout))"
   ]
  },
  {
   "cell_type": "code",
   "execution_count": 99,
   "metadata": {},
   "outputs": [],
   "source": [
    "filt2 = bout[989-99:989+98]"
   ]
  },
  {
   "cell_type": "code",
   "execution_count": 100,
   "metadata": {},
   "outputs": [
    {
     "data": {
      "text/plain": [
       "array([[-3.00869288e-04],\n",
       "       [-4.45641762e-04],\n",
       "       [-5.91481095e-04],\n",
       "       [-7.36066637e-04],\n",
       "       [-8.76963144e-04],\n",
       "       [-1.01165372e-03],\n",
       "       [-1.13757602e-03],\n",
       "       [-1.25216124e-03],\n",
       "       [-1.35287558e-03],\n",
       "       [-1.43726345e-03],\n",
       "       [-1.50299200e-03],\n",
       "       [-1.54789623e-03],\n",
       "       [-1.57002404e-03],\n",
       "       [-1.56768041e-03],\n",
       "       [-1.53947007e-03],\n",
       "       [-1.48433779e-03],\n",
       "       [-1.40160548e-03],\n",
       "       [-1.29100549e-03],\n",
       "       [-1.15270908e-03],\n",
       "       [-9.87349619e-04],\n",
       "       [-7.96039594e-04],\n",
       "       [-5.80380941e-04],\n",
       "       [-3.42468088e-04],\n",
       "       [-8.48832612e-05],\n",
       "       [ 1.89316336e-04],\n",
       "       [ 4.76619718e-04],\n",
       "       [ 7.73091844e-04],\n",
       "       [ 1.07441189e-03],\n",
       "       [ 1.37591994e-03],\n",
       "       [ 1.67267189e-03],\n",
       "       [ 1.95950204e-03],\n",
       "       [ 2.23109302e-03],\n",
       "       [ 2.48205215e-03],\n",
       "       [ 2.70699358e-03],\n",
       "       [ 2.90062512e-03],\n",
       "       [ 3.05783874e-03],\n",
       "       [ 3.17380345e-03],\n",
       "       [ 3.24405935e-03],\n",
       "       [ 3.26461135e-03],\n",
       "       [ 3.23202113e-03],\n",
       "       [ 3.14349584e-03],\n",
       "       [ 2.99697185e-03],\n",
       "       [ 2.79119224e-03],\n",
       "       [ 2.52577617e-03],\n",
       "       [ 2.20127898e-03],\n",
       "       [ 1.81924122e-03],\n",
       "       [ 1.38222565e-03],\n",
       "       [ 8.93840700e-04],\n",
       "       [ 3.58749524e-04],\n",
       "       [-2.17336328e-04],\n",
       "       [-8.27679267e-04],\n",
       "       [-1.46455455e-03],\n",
       "       [-2.11930588e-03],\n",
       "       [-2.78241781e-03],\n",
       "       [-3.44360450e-03],\n",
       "       [-4.09191446e-03],\n",
       "       [-4.71585031e-03],\n",
       "       [-5.30350257e-03],\n",
       "       [-5.84269600e-03],\n",
       "       [-6.32114693e-03],\n",
       "       [-6.72662967e-03],\n",
       "       [-7.04714991e-03],\n",
       "       [-7.27112275e-03],\n",
       "       [-7.38755293e-03],\n",
       "       [-7.38621460e-03],\n",
       "       [-7.25782788e-03],\n",
       "       [-6.99422940e-03],\n",
       "       [-6.58853406e-03],\n",
       "       [-6.03528506e-03],\n",
       "       [-5.33058967e-03],\n",
       "       [-4.47223792e-03],\n",
       "       [-3.45980190e-03],\n",
       "       [-2.29471338e-03],\n",
       "       [-9.80317771e-04],\n",
       "       [ 4.78097188e-04],\n",
       "       [ 2.07329940e-03],\n",
       "       [ 3.79613790e-03],\n",
       "       [ 5.63559653e-03],\n",
       "       [ 7.57887562e-03],\n",
       "       [ 9.61150166e-03],\n",
       "       [ 1.17174638e-02],\n",
       "       [ 1.38793763e-02],\n",
       "       [ 1.60786641e-02],\n",
       "       [ 1.82957713e-02],\n",
       "       [ 2.05103878e-02],\n",
       "       [ 2.27016922e-02],\n",
       "       [ 2.48486072e-02],\n",
       "       [ 2.69300647e-02],\n",
       "       [ 2.89252752e-02],\n",
       "       [ 3.08139982e-02],\n",
       "       [ 3.25768105e-02],\n",
       "       [ 3.41953654e-02],\n",
       "       [ 3.56526419e-02],\n",
       "       [ 3.69331772e-02],\n",
       "       [ 3.80232803e-02],\n",
       "       [ 3.89112220e-02],\n",
       "       [ 3.95873992e-02],\n",
       "       [ 4.00444701e-02],\n",
       "       [ 4.02774572e-02],\n",
       "       [ 4.02838179e-02],\n",
       "       [ 4.00634810e-02],\n",
       "       [ 3.96188470e-02],\n",
       "       [ 3.89547544e-02],\n",
       "       [ 3.80784111e-02],\n",
       "       [ 3.69992928e-02],\n",
       "       [ 3.57290094e-02],\n",
       "       [ 3.42811430e-02],\n",
       "       [ 3.26710588e-02],\n",
       "       [ 3.09156929e-02],\n",
       "       [ 2.90333205e-02],\n",
       "       [ 2.70433083e-02],\n",
       "       [ 2.49658553e-02],\n",
       "       [ 2.28217249e-02],\n",
       "       [ 2.06319754e-02],\n",
       "       [ 1.84176893e-02],\n",
       "       [ 1.61997090e-02],\n",
       "       [ 1.39983804e-02],\n",
       "       [ 1.18333094e-02],\n",
       "       [ 9.72313380e-03],\n",
       "       [ 7.68531478e-03],\n",
       "       [ 5.73594917e-03],\n",
       "       [ 3.88960596e-03],\n",
       "       [ 2.15918824e-03],\n",
       "       [ 5.55821981e-04],\n",
       "       [-9.11227333e-04],\n",
       "       [-2.23461004e-03],\n",
       "       [-3.40891947e-03],\n",
       "       [-4.43069159e-03],\n",
       "       [-5.29837794e-03],\n",
       "       [-6.01229319e-03],\n",
       "       [-6.57453903e-03],\n",
       "       [-6.98890620e-03],\n",
       "       [-7.26075700e-03],\n",
       "       [-7.39689067e-03],\n",
       "       [-7.40539422e-03],\n",
       "       [-7.29548149e-03],\n",
       "       [-7.07732315e-03],\n",
       "       [-6.76187061e-03],\n",
       "       [-6.36067646e-03],\n",
       "       [-5.88571435e-03],\n",
       "       [-5.34920081e-03],\n",
       "       [-4.76342161e-03],\n",
       "       [-4.14056493e-03],\n",
       "       [-3.49256348e-03],\n",
       "       [-2.83094744e-03],\n",
       "       [-2.16670989e-03],\n",
       "       [-1.51018612e-03],\n",
       "       [-8.70947940e-04],\n",
       "       [-2.57713811e-04],\n",
       "       [ 3.21724618e-04],\n",
       "       [ 8.60559262e-04],\n",
       "       [ 1.35300561e-03],\n",
       "       [ 1.79432625e-03],\n",
       "       [ 2.18083825e-03],\n",
       "       [ 2.50990526e-03],\n",
       "       [ 2.77991499e-03],\n",
       "       [ 2.99024325e-03],\n",
       "       [ 3.14120569e-03],\n",
       "       [ 3.23399861e-03],\n",
       "       [ 3.27063018e-03],\n",
       "       [ 3.25384360e-03],\n",
       "       [ 3.18703380e-03],\n",
       "       [ 3.07415910e-03],\n",
       "       [ 2.91964954e-03],\n",
       "       [ 2.72831328e-03],\n",
       "       [ 2.50524258e-03],\n",
       "       [ 2.25572088e-03],\n",
       "       [ 1.98513207e-03],\n",
       "       [ 1.69887345e-03],\n",
       "       [ 1.40227322e-03],\n",
       "       [ 1.10051365e-03],\n",
       "       [ 7.98560761e-04],\n",
       "       [ 5.01101043e-04],\n",
       "       [ 2.12486046e-04],\n",
       "       [-6.33149855e-05],\n",
       "       [-3.22754042e-04],\n",
       "       [-5.62734752e-04],\n",
       "       [-7.80634259e-04],\n",
       "       [-9.74316712e-04],\n",
       "       [-1.14213862e-03],\n",
       "       [-1.28294643e-03],\n",
       "       [-1.39606680e-03],\n",
       "       [-1.48129013e-03],\n",
       "       [-1.53884790e-03],\n",
       "       [-1.56938458e-03],\n",
       "       [-1.57392482e-03],\n",
       "       [-1.55383658e-03],\n",
       "       [-1.51079117e-03],\n",
       "       [-1.44672077e-03],\n",
       "       [-1.36377435e-03],\n",
       "       [-1.26427272e-03],\n",
       "       [-1.15066342e-03],\n",
       "       [-1.02547614e-03],\n",
       "       [-8.91279368e-04],\n",
       "       [-7.50638810e-04],\n",
       "       [-6.06078155e-04],\n",
       "       [-4.60042627e-04]])"
      ]
     },
     "execution_count": 100,
     "metadata": {},
     "output_type": "execute_result"
    }
   ],
   "source": [
    "filt2"
   ]
  },
  {
   "cell_type": "code",
   "execution_count": 101,
   "metadata": {},
   "outputs": [],
   "source": [
    "w, h = sps.freqz(filt2)"
   ]
  },
  {
   "cell_type": "code",
   "execution_count": 102,
   "metadata": {},
   "outputs": [
    {
     "name": "stderr",
     "output_type": "stream",
     "text": [
      "/Users/aclaycomb/anaconda3/envs/geomagenv36/lib/python3.6/site-packages/matplotlib/cbook/deprecation.py:107: MatplotlibDeprecationWarning: Adding an axes using the same arguments as a previous axes currently reuses the earlier instance.  In a future version, a new instance will always be created and returned.  Meanwhile, this warning can be suppressed, and the future behavior ensured, by passing a unique label to each axes instance.\n",
      "  warnings.warn(message, mplDeprecation, stacklevel=1)\n"
     ]
    },
    {
     "data": {
      "image/png": "[encoded data removed]",
      "text/plain": [
       "<Figure size 432x288 with 2 Axes>"
      ]
     },
     "metadata": {
      "needs_background": "light"
     },
     "output_type": "display_data"
    }
   ],
   "source": [
    "fig = pl.figure()\n",
    "pl.title('Digital filter frequency response')\n",
    "ax1 = fig.add_subplot(111)\n",
    "pl.semilogy(w, np.abs(h), 'b')\n",
    "pl.ylabel('Amplitude (dB)', color='b')\n",
    "pl.xlabel('Frequency (rad/sample)')\n",
    "ax2 = ax1.twinx()\n",
    "angles = np.unwrap(np.angle(h))\n",
    "pl.plot(w, angles, 'g')\n",
    "pl.ylabel('Angle (radians)', color='g')\n",
    "pl.grid()\n",
    "pl.axis('tight')\n",
    "pl.show()"
   ]
  },
  {
   "cell_type": "code",
   "execution_count": null,
   "metadata": {},
   "outputs": [],
   "source": []
  },
  {
   "cell_type": "code",
   "execution_count": 38,
   "metadata": {},
   "outputs": [],
   "source": [
    "ts_imp = sps.filtfilt(a=a,b=b,x=ts)"
   ]
  },
  {
   "cell_type": "code",
   "execution_count": 39,
   "metadata": {
    "scrolled": true
   },
   "outputs": [
    {
     "data": {
      "text/plain": [
       "[<matplotlib.lines.Line2D at 0x1c1fb29748>]"
      ]
     },
     "execution_count": 39,
     "metadata": {},
     "output_type": "execute_result"
    },
    {
     "data": {
      "image/png": "[encoded data removed]",
      "text/plain": [
       "<Figure size 432x288 with 1 Axes>"
      ]
     },
     "metadata": {
      "needs_background": "light"
     },
     "output_type": "display_data"
    }
   ],
   "source": [
    "pl.plot(ts_imp)"
   ]
  },
  {
   "cell_type": "code",
   "execution_count": 89,
   "metadata": {},
   "outputs": [
    {
     "ename": "AttributeError",
     "evalue": "module 'numpy' has no attribute 'epsilon'",
     "output_type": "error",
     "traceback": [
      "\u001b[0;31m---------------------------------------------------------------------------\u001b[0m",
      "\u001b[0;31mAttributeError\u001b[0m                            Traceback (most recent call last)",
      "\u001b[0;32m<ipython-input-89-56c419ae92da>\u001b[0m in \u001b[0;36m<module>\u001b[0;34m()\u001b[0m\n\u001b[0;32m----> 1\u001b[0;31m \u001b[0mnp\u001b[0m\u001b[0;34m.\u001b[0m\u001b[0mepsilon\u001b[0m\u001b[0;34m\u001b[0m\u001b[0m\n\u001b[0m",
      "\u001b[0;31mAttributeError\u001b[0m: module 'numpy' has no attribute 'epsilon'"
     ]
    }
   ],
   "source": [
    "np"
   ]
  },
  {
   "cell_type": "code",
   "execution_count": null,
   "metadata": {},
   "outputs": [],
   "source": []
  },
  {
   "cell_type": "code",
   "execution_count": 40,
   "metadata": {},
   "outputs": [
    {
     "name": "stderr",
     "output_type": "stream",
     "text": [
      "/Users/aclaycomb/anaconda3/envs/geomagenv36/lib/python3.6/site-packages/scipy/signal/filter_design.py:536: UserWarning: The group delay is singular at frequencies [0.000, 0.006, 0.012, 0.018, 0.025, 0.031, 0.037, 0.043, 0.049, 0.055, 0.061, 0.067, 0.074, 0.080, 0.086, 0.092, 0.098, 0.104, 0.110, 0.117, 0.123, 0.129, 3.013, 3.019, 3.025, 3.031, 3.037, 3.043, 3.050, 3.056, 3.062, 3.068, 3.074, 3.080, 3.086, 3.093, 3.099, 3.105, 3.111, 3.117, 3.123, 3.129, 3.135], setting to 0\n",
      "  format(\", \".join(\"{0:.3f}\".format(ws) for ws in w[singular]))\n"
     ]
    }
   ],
   "source": [
    "w, gd = sps.group_delay((a,b))"
   ]
  },
  {
   "cell_type": "code",
   "execution_count": 41,
   "metadata": {},
   "outputs": [
    {
     "data": {
      "text/plain": [
       "<matplotlib.legend.Legend at 0x1c1fb0ab70>"
      ]
     },
     "execution_count": 41,
     "metadata": {},
     "output_type": "execute_result"
    },
    {
     "data": {
      "image/png": "[encoded data removed]",
      "text/plain": [
       "<Figure size 432x288 with 1 Axes>"
      ]
     },
     "metadata": {
      "needs_background": "light"
     },
     "output_type": "display_data"
    }
   ],
   "source": [
    "pl.plot(w*sample_rate/2/np.pi, gd/sample_rate, w*sample_rate/2/np.pi, 0.01*np.ones_like(w))\n",
    "pl.xlabel('Frequency (Hz)')\n",
    "pl.ylabel('Group Delay (s)')\n",
    "pl.legend(('Butterworth Design', 'Intermagnet Requirement'))"
   ]
  },
  {
   "cell_type": "code",
   "execution_count": 23,
   "metadata": {},
   "outputs": [],
   "source": [
    "a,b = sps.iirdesign(cutoff, cutoff+width, gpass=3.0, gstop=50.0, analog=False, ftype='cheby1')"
   ]
  },
  {
   "cell_type": "code",
   "execution_count": 24,
   "metadata": {},
   "outputs": [
    {
     "name": "stderr",
     "output_type": "stream",
     "text": [
      "/Users/aclaycomb/anaconda3/envs/geomagenv36/lib/python3.6/site-packages/scipy/signal/filter_design.py:536: UserWarning: The group delay is singular at frequencies [3.129, 3.135], setting to 0\n",
      "  format(\", \".join(\"{0:.3f}\".format(ws) for ws in w[singular]))\n"
     ]
    }
   ],
   "source": [
    "w, gd = sps.group_delay((a,b))"
   ]
  },
  {
   "cell_type": "code",
   "execution_count": 25,
   "metadata": {},
   "outputs": [
    {
     "data": {
      "text/plain": [
       "array([5.92719812e-08, 2.96359906e-07, 5.92719812e-07, 5.92719812e-07,\n",
       "       2.96359906e-07, 5.92719812e-08])"
      ]
     },
     "execution_count": 25,
     "metadata": {},
     "output_type": "execute_result"
    }
   ],
   "source": [
    "a"
   ]
  },
  {
   "cell_type": "code",
   "execution_count": 20,
   "metadata": {},
   "outputs": [
    {
     "data": {
      "text/plain": [
       "array([ 1.        , -4.9082771 ,  9.65633587, -9.51809429,  4.70039227,\n",
       "       -0.93035486])"
      ]
     },
     "execution_count": 20,
     "metadata": {},
     "output_type": "execute_result"
    }
   ],
   "source": [
    "b"
   ]
  },
  {
   "cell_type": "code",
   "execution_count": 21,
   "metadata": {},
   "outputs": [
    {
     "data": {
      "text/plain": [
       "<matplotlib.legend.Legend at 0x1c200cd0f0>"
      ]
     },
     "execution_count": 21,
     "metadata": {},
     "output_type": "execute_result"
    },
    {
     "data": {
      "image/png": "[encoded data removed]",
      "text/plain": [
       "<Figure size 432x288 with 1 Axes>"
      ]
     },
     "metadata": {
      "needs_background": "light"
     },
     "output_type": "display_data"
    }
   ],
   "source": [
    "pl.plot(w*sample_rate/2/np.pi, gd/sample_rate, w*sample_rate/2/np.pi, 0.01*np.ones_like(w))\n",
    "pl.xlabel('Frequency (Hz)')\n",
    "pl.ylabel('Group Delay (s)')\n",
    "pl.legend(('Chebychev Type 1 Design', 'Intermagnet Requirement'))"
   ]
  },
  {
   "cell_type": "code",
   "execution_count": 17,
   "metadata": {},
   "outputs": [
    {
     "data": {
      "text/plain": [
       "<matplotlib.legend.Legend at 0x1c26bdec50>"
      ]
     },
     "execution_count": 17,
     "metadata": {},
     "output_type": "execute_result"
    },
    {
     "data": {
      "image/png": "[encoded data removed]",
      "text/plain": [
       "<Figure size 432x288 with 1 Axes>"
      ]
     },
     "metadata": {
      "needs_background": "light"
     },
     "output_type": "display_data"
    }
   ],
   "source": [
    "a,b = sps.iirdesign(cutoff, cutoff+width, gpass=3.0, gstop=50.0, analog=False, ftype='cheby2')\n",
    "w, gd = sps.group_delay((a,b))\n",
    "pl.plot(w*sample_rate/2/np.pi, gd/sample_rate, w*sample_rate/2/np.pi, 0.01*np.ones_like(w))\n",
    "pl.xlabel('Frequency (Hz)')\n",
    "pl.ylabel('Group Delay (s)')\n",
    "pl.legend(('Chebychev Type 2 Design', 'Intermagnet Requirement'))"
   ]
  },
  {
   "cell_type": "code",
   "execution_count": 18,
   "metadata": {},
   "outputs": [
    {
     "data": {
      "text/plain": [
       "[<matplotlib.lines.Line2D at 0x1c26d319e8>]"
      ]
     },
     "execution_count": 18,
     "metadata": {},
     "output_type": "execute_result"
    },
    {
     "data": {
      "image/png": "[encoded data removed]",
      "text/plain": [
       "<Figure size 432x288 with 1 Axes>"
      ]
     },
     "metadata": {
      "needs_background": "light"
     },
     "output_type": "display_data"
    }
   ],
   "source": [
    "a,b = sps.iirdesign(cutoff, cutoff+width, gpass=3.0, gstop=50.0, analog=False, ftype='ellip')\n",
    "w, gd = sps.group_delay((a,b))\n",
    "pl.plot(w,gd)"
   ]
  },
  {
   "cell_type": "code",
   "execution_count": 19,
   "metadata": {},
   "outputs": [
    {
     "ename": "ValueError",
     "evalue": "bessel does not have order selection. Use iirfilter function.",
     "output_type": "error",
     "traceback": [
      "\u001b[0;31m---------------------------------------------------------------------------\u001b[0m",
      "\u001b[0;31mIndexError\u001b[0m                                Traceback (most recent call last)",
      "\u001b[0;32m~/anaconda3/envs/geomagenv36/lib/python3.6/site-packages/scipy/signal/filter_design.py\u001b[0m in \u001b[0;36miirdesign\u001b[0;34m(wp, ws, gpass, gstop, analog, ftype, output)\u001b[0m\n\u001b[1;32m   1704\u001b[0m     \u001b[0;32mtry\u001b[0m\u001b[0;34m:\u001b[0m\u001b[0;34m\u001b[0m\u001b[0m\n\u001b[0;32m-> 1705\u001b[0;31m         \u001b[0mordfunc\u001b[0m \u001b[0;34m=\u001b[0m \u001b[0mfilter_dict\u001b[0m\u001b[0;34m[\u001b[0m\u001b[0mftype\u001b[0m\u001b[0;34m]\u001b[0m\u001b[0;34m[\u001b[0m\u001b[0;36m1\u001b[0m\u001b[0;34m]\u001b[0m\u001b[0;34m\u001b[0m\u001b[0m\n\u001b[0m\u001b[1;32m   1706\u001b[0m     \u001b[0;32mexcept\u001b[0m \u001b[0mKeyError\u001b[0m\u001b[0;34m:\u001b[0m\u001b[0;34m\u001b[0m\u001b[0m\n",
      "\u001b[0;31mIndexError\u001b[0m: list index out of range",
      "\nDuring handling of the above exception, another exception occurred:\n",
      "\u001b[0;31mValueError\u001b[0m                                Traceback (most recent call last)",
      "\u001b[0;32m<ipython-input-19-2193337a950a>\u001b[0m in \u001b[0;36m<module>\u001b[0;34m()\u001b[0m\n\u001b[0;32m----> 1\u001b[0;31m \u001b[0ma\u001b[0m\u001b[0;34m,\u001b[0m\u001b[0mb\u001b[0m \u001b[0;34m=\u001b[0m \u001b[0msps\u001b[0m\u001b[0;34m.\u001b[0m\u001b[0miirdesign\u001b[0m\u001b[0;34m(\u001b[0m\u001b[0mcutoff\u001b[0m\u001b[0;34m,\u001b[0m \u001b[0mcutoff\u001b[0m\u001b[0;34m+\u001b[0m\u001b[0mwidth\u001b[0m\u001b[0;34m,\u001b[0m \u001b[0mgpass\u001b[0m\u001b[0;34m=\u001b[0m\u001b[0;36m3.0\u001b[0m\u001b[0;34m,\u001b[0m \u001b[0mgstop\u001b[0m\u001b[0;34m=\u001b[0m\u001b[0;36m50.0\u001b[0m\u001b[0;34m,\u001b[0m \u001b[0manalog\u001b[0m\u001b[0;34m=\u001b[0m\u001b[0;32mFalse\u001b[0m\u001b[0;34m,\u001b[0m \u001b[0mftype\u001b[0m\u001b[0;34m=\u001b[0m\u001b[0;34m'bessel'\u001b[0m\u001b[0;34m)\u001b[0m\u001b[0;34m\u001b[0m\u001b[0m\n\u001b[0m\u001b[1;32m      2\u001b[0m \u001b[0mw\u001b[0m\u001b[0;34m,\u001b[0m \u001b[0mgd\u001b[0m \u001b[0;34m=\u001b[0m \u001b[0msps\u001b[0m\u001b[0;34m.\u001b[0m\u001b[0mgroup_delay\u001b[0m\u001b[0;34m(\u001b[0m\u001b[0;34m(\u001b[0m\u001b[0ma\u001b[0m\u001b[0;34m,\u001b[0m\u001b[0mb\u001b[0m\u001b[0;34m)\u001b[0m\u001b[0;34m)\u001b[0m\u001b[0;34m\u001b[0m\u001b[0m\n\u001b[1;32m      3\u001b[0m \u001b[0mpl\u001b[0m\u001b[0;34m.\u001b[0m\u001b[0mplot\u001b[0m\u001b[0;34m(\u001b[0m\u001b[0mw\u001b[0m\u001b[0;34m,\u001b[0m\u001b[0mgd\u001b[0m\u001b[0;34m)\u001b[0m\u001b[0;34m\u001b[0m\u001b[0m\n",
      "\u001b[0;32m~/anaconda3/envs/geomagenv36/lib/python3.6/site-packages/scipy/signal/filter_design.py\u001b[0m in \u001b[0;36miirdesign\u001b[0;34m(wp, ws, gpass, gstop, analog, ftype, output)\u001b[0m\n\u001b[1;32m   1708\u001b[0m     \u001b[0;32mexcept\u001b[0m \u001b[0mIndexError\u001b[0m\u001b[0;34m:\u001b[0m\u001b[0;34m\u001b[0m\u001b[0m\n\u001b[1;32m   1709\u001b[0m         raise ValueError((\"%s does not have order selection. Use \"\n\u001b[0;32m-> 1710\u001b[0;31m                           \"iirfilter function.\") % ftype)\n\u001b[0m\u001b[1;32m   1711\u001b[0m \u001b[0;34m\u001b[0m\u001b[0m\n\u001b[1;32m   1712\u001b[0m     \u001b[0mwp\u001b[0m \u001b[0;34m=\u001b[0m \u001b[0matleast_1d\u001b[0m\u001b[0;34m(\u001b[0m\u001b[0mwp\u001b[0m\u001b[0;34m)\u001b[0m\u001b[0;34m\u001b[0m\u001b[0m\n",
      "\u001b[0;31mValueError\u001b[0m: bessel does not have order selection. Use iirfilter function."
     ]
    }
   ],
   "source": [
    "a,b = sps.iirdesign(cutoff, cutoff+width, gpass=3.0, gstop=50.0, analog=False, ftype='bessel')\n",
    "w, gd = sps.group_delay((a,b))\n",
    "pl.plot(w,gd)"
   ]
  },
  {
   "cell_type": "code",
   "execution_count": 160,
   "metadata": {},
   "outputs": [
    {
     "data": {
      "text/plain": [
       "0.011920928955078125"
      ]
     },
     "execution_count": 160,
     "metadata": {},
     "output_type": "execute_result"
    }
   ],
   "source": [
    "200000/(2.0**24)"
   ]
  },
  {
   "cell_type": "code",
   "execution_count": 18,
   "metadata": {},
   "outputs": [
    {
     "data": {
      "text/plain": [
       "(512,)"
      ]
     },
     "execution_count": 18,
     "metadata": {},
     "output_type": "execute_result"
    }
   ],
   "source": [
    "w.shape"
   ]
  },
  {
   "cell_type": "code",
   "execution_count": 20,
   "metadata": {},
   "outputs": [],
   "source": [
    "a = EdgeFactory(cwbhost=\"166.154.45.158\", host=\"166.154.45.158\")"
   ]
  },
  {
   "cell_type": "code",
   "execution_count": 26,
   "metadata": {},
   "outputs": [],
   "source": [
    "temp = a.get_timeseries(channels=['UK2'], starttime=UTCDateTime(\"2018-09-11T21:45:00Z\"), endtime=UTCDateTime(\"2018-09-11T21:50:00Z\"), observatory=\"GXX\", type=\"variation\", interval=\"minute\")"
   ]
  },
  {
   "cell_type": "code",
   "execution_count": 27,
   "metadata": {},
   "outputs": [
    {
     "data": {
      "text/plain": [
       "1 Trace(s) in Stream:\n",
       "NT.GXX.R0.UK2 | 2018-09-11T21:44:54.240000Z - 2018-09-11T21:49:53.640000Z | 59.9 s, 6 samples"
      ]
     },
     "execution_count": 27,
     "metadata": {},
     "output_type": "execute_result"
    }
   ],
   "source": [
    "temp"
   ]
  },
  {
   "cell_type": "code",
   "execution_count": 28,
   "metadata": {},
   "outputs": [
    {
     "data": {
      "image/png": "[encoded data removed]",
      "text/plain": [
       "<Figure size 800x250 with 1 Axes>"
      ]
     },
     "metadata": {
      "needs_background": "light"
     },
     "output_type": "display_data"
    }
   ],
   "source": [
    "temp.plot()"
   ]
  },
  {
   "cell_type": "code",
   "execution_count": 29,
   "metadata": {},
   "outputs": [],
   "source": [
    "b = temp[0]"
   ]
  },
  {
   "cell_type": "code",
   "execution_count": 30,
   "metadata": {},
   "outputs": [
    {
     "data": {
      "text/plain": [
       "array([  0.  ,  59.88, 119.76, 179.64, 239.52, 299.4 ])"
      ]
     },
     "execution_count": 30,
     "metadata": {},
     "output_type": "execute_result"
    }
   ],
   "source": [
    "b.times()"
   ]
  },
  {
   "cell_type": "code",
   "execution_count": 31,
   "metadata": {},
   "outputs": [
    {
     "data": {
      "text/plain": [
       "0.016666666666666666"
      ]
     },
     "execution_count": 31,
     "metadata": {},
     "output_type": "execute_result"
    }
   ],
   "source": [
    "1/60"
   ]
  },
  {
   "cell_type": "code",
   "execution_count": 32,
   "metadata": {},
   "outputs": [],
   "source": [
    "c = EdgeFactory()"
   ]
  },
  {
   "cell_type": "code",
   "execution_count": 39,
   "metadata": {},
   "outputs": [
    {
     "name": "stderr",
     "output_type": "stream",
     "text": [
      "read_wave_server_v returned flag FR - requested data right (later) than tank contents\n"
     ]
    }
   ],
   "source": [
    "brt = c.get_timeseries(channels=['UK1'], starttime=UTCDateTime(\"2018-09-11T21:45:00Z\"), endtime=UTCDateTime(\"2018-09-11T21:50:00Z\"), observatory=\"BRT\", type=\"variation\", interval=\"minute\")"
   ]
  },
  {
   "cell_type": "code",
   "execution_count": 34,
   "metadata": {},
   "outputs": [
    {
     "data": {
      "text/plain": [
       "array([  0.  ,  59.88, 119.76, 179.64, 239.52, 299.4 ])"
      ]
     },
     "execution_count": 34,
     "metadata": {},
     "output_type": "execute_result"
    }
   ],
   "source": [
    "brt[0].times()"
   ]
  },
  {
   "cell_type": "code",
   "execution_count": 40,
   "metadata": {},
   "outputs": [],
   "source": [
    "dht = c.get_timeseries(channels=['MVH'], starttime=UTCDateTime(\"2018-09-10T21:45:00Z\"), endtime=UTCDateTime(\"2018-09-10T21:50:00Z\"), observatory=\"DHT\", type=\"variation\", interval=\"minute\")"
   ]
  },
  {
   "cell_type": "code",
   "execution_count": 41,
   "metadata": {},
   "outputs": [
    {
     "data": {
      "text/plain": [
       "array([  0.,  60., 120., 180., 240., 300.])"
      ]
     },
     "execution_count": 41,
     "metadata": {},
     "output_type": "execute_result"
    }
   ],
   "source": [
    "dht[0].times()"
   ]
  },
  {
   "cell_type": "code",
   "execution_count": null,
   "metadata": {},
   "outputs": [],
   "source": []
  }
 ],
 "metadata": {
  "kernelspec": {
   "display_name": "Python (geomagenv36)",
   "language": "python",
   "name": "geomagenv36"
  },
  "language_info": {
   "codemirror_mode": {
    "name": "ipython",
    "version": 3
   },
   "file_extension": ".py",
   "mimetype": "text/x-python",
   "name": "python",
   "nbconvert_exporter": "python",
   "pygments_lexer": "ipython3",
   "version": "3.6.6"
  }
 },
 "nbformat": 4,
 "nbformat_minor": 2
}
